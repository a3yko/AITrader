{
  "nbformat": 4,
  "nbformat_minor": 0,
  "metadata": {
    "colab": {
      "name": "Machine Learning Project.ipynb",
      "provenance": [],
      "collapsed_sections": [],
      "toc_visible": true
    },
    "kernelspec": {
      "name": "python3",
      "display_name": "Python 3"
    }
  },
  "cells": [
    {
      "cell_type": "markdown",
      "metadata": {
        "id": "CkeuBnrbawfS"
      },
      "source": [
        "# Setup Code for VM related items\n",
        "## !!!!When Saving, please ping revision so its saved in revision history!!!\n",
        "Probs need to run anything under this section before code\n"
      ]
    },
    {
      "cell_type": "code",
      "metadata": {
        "id": "5srqQmCqXYhz",
        "colab": {
          "base_uri": "https://localhost:8080/"
        },
        "outputId": "6c5b5088-518b-46b0-f8f3-4fd619f5598f"
      },
      "source": [
        "!pip install alpaca-trade-api"
      ],
      "execution_count": null,
      "outputs": [
        {
          "output_type": "stream",
          "text": [
            "Collecting alpaca-trade-api\n",
            "  Downloading https://files.pythonhosted.org/packages/c2/a9/1a51c9f61a9ae88e576df246b11a36e1eb3bdbadb7255447837bf2967bc9/alpaca_trade_api-1.1.0-py3-none-any.whl\n",
            "Requirement already satisfied: pandas in /usr/local/lib/python3.7/dist-packages (from alpaca-trade-api) (1.1.5)\n",
            "Requirement already satisfied: urllib3<2,>1.24 in /usr/local/lib/python3.7/dist-packages (from alpaca-trade-api) (1.24.3)\n",
            "Requirement already satisfied: numpy in /usr/local/lib/python3.7/dist-packages (from alpaca-trade-api) (1.19.5)\n",
            "Requirement already satisfied: msgpack==1.0.2 in /usr/local/lib/python3.7/dist-packages (from alpaca-trade-api) (1.0.2)\n",
            "Requirement already satisfied: requests<3,>2 in /usr/local/lib/python3.7/dist-packages (from alpaca-trade-api) (2.23.0)\n",
            "Collecting websocket-client<1,>=0.56.0\n",
            "\u001b[?25l  Downloading https://files.pythonhosted.org/packages/08/33/80e0d4f60e84a1ddd9a03f340be1065a2a363c47ce65c4bd3bae65ce9631/websocket_client-0.58.0-py2.py3-none-any.whl (61kB)\n",
            "\u001b[K     |████████████████████████████████| 61kB 2.9MB/s \n",
            "\u001b[?25hCollecting websockets<9,>=8.0\n",
            "\u001b[?25l  Downloading https://files.pythonhosted.org/packages/5a/0b/3ebc752392a368af14dd24ee041683416ac6d2463eead94b311b11e41c82/websockets-8.1-cp37-cp37m-manylinux2010_x86_64.whl (79kB)\n",
            "\u001b[K     |████████████████████████████████| 81kB 3.7MB/s \n",
            "\u001b[?25hRequirement already satisfied: pytz>=2017.2 in /usr/local/lib/python3.7/dist-packages (from pandas->alpaca-trade-api) (2018.9)\n",
            "Requirement already satisfied: python-dateutil>=2.7.3 in /usr/local/lib/python3.7/dist-packages (from pandas->alpaca-trade-api) (2.8.1)\n",
            "Requirement already satisfied: idna<3,>=2.5 in /usr/local/lib/python3.7/dist-packages (from requests<3,>2->alpaca-trade-api) (2.10)\n",
            "Requirement already satisfied: certifi>=2017.4.17 in /usr/local/lib/python3.7/dist-packages (from requests<3,>2->alpaca-trade-api) (2020.12.5)\n",
            "Requirement already satisfied: chardet<4,>=3.0.2 in /usr/local/lib/python3.7/dist-packages (from requests<3,>2->alpaca-trade-api) (3.0.4)\n",
            "Requirement already satisfied: six in /usr/local/lib/python3.7/dist-packages (from websocket-client<1,>=0.56.0->alpaca-trade-api) (1.15.0)\n",
            "Installing collected packages: websocket-client, websockets, alpaca-trade-api\n",
            "Successfully installed alpaca-trade-api-1.1.0 websocket-client-0.58.0 websockets-8.1\n"
          ],
          "name": "stdout"
        }
      ]
    },
    {
      "cell_type": "markdown",
      "metadata": {
        "id": "iV23aQ2LfHIA"
      },
      "source": [
        "Pandas Technical Analysis (Pandas TA) is an easy to use library that leverages the Pandas library with more than 120 Indicators and Utility functions. \n",
        "\n",
        "INFO HERE : https://github.com/twopirllc/pandas-ta#installation\n",
        "\n",
        "USEFUL EXAMPLE: https://github.com/twopirllc/pandas-ta/blob/master/examples/AIExample.ipynb"
      ]
    },
    {
      "cell_type": "code",
      "metadata": {
        "id": "TRojhAcGeQtq",
        "colab": {
          "base_uri": "https://localhost:8080/"
        },
        "outputId": "84936cbf-b9ca-4ca4-cec3-6152b30ec951"
      },
      "source": [
        "!pip install --upgrade ta"
      ],
      "execution_count": null,
      "outputs": [
        {
          "output_type": "stream",
          "text": [
            "Requirement already up-to-date: ta in /usr/local/lib/python3.7/dist-packages (0.7.0)\n",
            "Requirement already satisfied, skipping upgrade: numpy in /usr/local/lib/python3.7/dist-packages (from ta) (1.19.5)\n",
            "Requirement already satisfied, skipping upgrade: pandas in /usr/local/lib/python3.7/dist-packages (from ta) (1.1.5)\n",
            "Requirement already satisfied, skipping upgrade: pytz>=2017.2 in /usr/local/lib/python3.7/dist-packages (from pandas->ta) (2018.9)\n",
            "Requirement already satisfied, skipping upgrade: python-dateutil>=2.7.3 in /usr/local/lib/python3.7/dist-packages (from pandas->ta) (2.8.1)\n",
            "Requirement already satisfied, skipping upgrade: six>=1.5 in /usr/local/lib/python3.7/dist-packages (from python-dateutil>=2.7.3->pandas->ta) (1.15.0)\n"
          ],
          "name": "stdout"
        }
      ]
    },
    {
      "cell_type": "code",
      "metadata": {
        "id": "2InlRmVUGXUC",
        "colab": {
          "base_uri": "https://localhost:8080/"
        },
        "outputId": "4f9c55c7-e7b7-4438-9644-10b68d6ed5c0"
      },
      "source": [
        "!pip install yfinance"
      ],
      "execution_count": null,
      "outputs": [
        {
          "output_type": "stream",
          "text": [
            "Requirement already satisfied: yfinance in /usr/local/lib/python3.7/dist-packages (0.1.59)\n",
            "Requirement already satisfied: requests>=2.20 in /usr/local/lib/python3.7/dist-packages (from yfinance) (2.23.0)\n",
            "Requirement already satisfied: lxml>=4.5.1 in /usr/local/lib/python3.7/dist-packages (from yfinance) (4.6.3)\n",
            "Requirement already satisfied: numpy>=1.15 in /usr/local/lib/python3.7/dist-packages (from yfinance) (1.19.5)\n",
            "Requirement already satisfied: pandas>=0.24 in /usr/local/lib/python3.7/dist-packages (from yfinance) (1.1.5)\n",
            "Requirement already satisfied: multitasking>=0.0.7 in /usr/local/lib/python3.7/dist-packages (from yfinance) (0.0.9)\n",
            "Requirement already satisfied: urllib3!=1.25.0,!=1.25.1,<1.26,>=1.21.1 in /usr/local/lib/python3.7/dist-packages (from requests>=2.20->yfinance) (1.24.3)\n",
            "Requirement already satisfied: idna<3,>=2.5 in /usr/local/lib/python3.7/dist-packages (from requests>=2.20->yfinance) (2.10)\n",
            "Requirement already satisfied: chardet<4,>=3.0.2 in /usr/local/lib/python3.7/dist-packages (from requests>=2.20->yfinance) (3.0.4)\n",
            "Requirement already satisfied: certifi>=2017.4.17 in /usr/local/lib/python3.7/dist-packages (from requests>=2.20->yfinance) (2020.12.5)\n",
            "Requirement already satisfied: pytz>=2017.2 in /usr/local/lib/python3.7/dist-packages (from pandas>=0.24->yfinance) (2018.9)\n",
            "Requirement already satisfied: python-dateutil>=2.7.3 in /usr/local/lib/python3.7/dist-packages (from pandas>=0.24->yfinance) (2.8.1)\n",
            "Requirement already satisfied: six>=1.5 in /usr/local/lib/python3.7/dist-packages (from python-dateutil>=2.7.3->pandas>=0.24->yfinance) (1.15.0)\n"
          ],
          "name": "stdout"
        }
      ]
    },
    {
      "cell_type": "markdown",
      "metadata": {
        "id": "Yfr8v41nXUYz"
      },
      "source": [
        "#Code\n",
        "code cells are unfortunately not linked together and a such all code for program has to go on one cell\n",
        "\n",
        "Alpaca Secret : Y01uwQ4EFeZQzanLj1UVs7NqyCAHvbwo6UyrxqFw\n",
        "\n",
        "Alpaca Key : PK2K1WCVGJBQ0T4BKDIW\n",
        "\n",
        "Yahoo Finance Key : 75ee96eb2fmsha6dbdb2310728dfp1301d2jsnbf21f7a615c1"
      ]
    },
    {
      "cell_type": "code",
      "metadata": {
        "id": "TkZLrYGpxbb9",
        "colab": {
          "base_uri": "https://localhost:8080/",
          "height": 1000
        },
        "outputId": "d27de4b7-0c19-4ebd-cdbd-08ea254389c5"
      },
      "source": [
        "import alpaca_trade_api as alpacaapi\n",
        "import yfinance as yf, pandas as pd, shutil, os, time, glob\n",
        "import matplotlib.pyplot as plt\n",
        "import pytz as pytz\n",
        "import requests\n",
        "import json\n",
        "import numpy as np\n",
        "import datetime\n",
        "import time\n",
        "from datetime import timedelta\n",
        "from ta import add_all_ta_features\n",
        "from ta.utils import dropna\n",
        "from ta.momentum import RSIIndicator\n",
        "from ta.trend import MACD, SMAIndicator, EMAIndicator\n",
        "from ta.momentum import StochasticOscillator\n",
        "from ta.volume import OnBalanceVolumeIndicator\n",
        "from sklearn.datasets import load_digits\n",
        "from sklearn.linear_model import LogisticRegression\n",
        "from sklearn.metrics import classification_report, confusion_matrix\n",
        "from sklearn.model_selection import train_test_split\n",
        "from sklearn.preprocessing import StandardScaler\n",
        "from google.colab import drive\n",
        "\n",
        "\n",
        "drive.mount(\"/content/drive/\")\n",
        "api = alpacaapi.REST(\"PKHCRUMLZWP36N6UIYOQ\", \"nHyyYJQ7RRpAyqJyE1NkPZsYkBft3Xj46OyDSdzI\", \"https://paper-api.alpaca.markets\")\n",
        "\n",
        "################\n",
        "# getStockData #\n",
        "################\n",
        "\n",
        "# https://alpaca.markets/docs/api-documentation/api-v2/market-data/bars/\n",
        "# Check the above link for specific usage if you need to use it in your function\n",
        "def getStockData(tick, length, frame):\n",
        "  barset = api.get_barset(tick, frame , limit=length).df\n",
        "  return barset\n",
        "\n",
        "#Example usage\n",
        "#  This will get the info for Tesla for the last 100 minutes\n",
        "#  getStockData(\"TSLA\", 100, \"minute\")\n",
        "\n",
        "\n",
        "#####################\n",
        "# getStockDataMulti #\n",
        "#####################\n",
        "\n",
        "# getStockDataMulti creates a list of dataframes containing\n",
        "# time-aggregated price and volume data \n",
        "def getStockDataMulti(ticks, length, frame):\n",
        "  dataframes = []\n",
        "  for tick in ticks:\n",
        "    df = getStockData(tick, length, frame)\n",
        "    dataframes.append({ tick: df })\n",
        "  return dataframes\n",
        "\n",
        "# Example usage\n",
        "#   stocks = [\"TSLA\", \"AAPL\", \"SNAP\"]\n",
        "#   data = getStockDataMulti(stocks, 5, \"minute\")\n",
        "#   print(data)\n",
        "\n",
        "######################\n",
        "# getTrendingTickers #\n",
        "######################\n",
        "\n",
        "# getTrendingTickers creates a list of the current top 20\n",
        "# trending stocks from Yahoo Finance\n",
        "def getTrendingTickers():\n",
        "  # build request\n",
        "  url = \"https://apidojo-yahoo-finance-v1.p.rapidapi.com/market/get-trending-tickers\"\n",
        "  querystring = {\"region\":\"US\"}\n",
        "  headers = {\n",
        "      'x-rapidapi-key': \"75ee96eb2fmsha6dbdb2310728dfp1301d2jsnbf21f7a615c1\",\n",
        "      'x-rapidapi-host': \"apidojo-yahoo-finance-v1.p.rapidapi.com\"\n",
        "  }\n",
        "  # execute request\n",
        "  response = requests.request(\"GET\", url, headers=headers, params=querystring)\n",
        "  raw_data = json.loads(response.text)['finance']['result']\n",
        "  # extract symbols\n",
        "  symbols = []\n",
        "  for quote in raw_data[0]['quotes']:\n",
        "    symbols.append(quote['symbol'])\n",
        "  return symbols\n",
        "\n",
        "# Example usage\n",
        "#   symbols = getTrendingTickers()\n",
        "#   print(symbols)\n",
        "\n",
        "\n",
        "\n",
        "#############\n",
        "# sellLimit #\n",
        "#############\n",
        "\n",
        "# A sell limit is submitted as a gtc(Good 'Til Cancelled) time in force which \n",
        "# keeps the sell limit order open until it is fulfilled or cancelled.\n",
        "# You must pass in the current price of the tick as the third argument when the\n",
        "# sell limit is placed. This is so the 10% price increase can be calculated.\n",
        "def sellLimit(tick, quantity, current_price):\n",
        "    try:\n",
        "        api.submit_order(\n",
        "            symbol=symbol,\n",
        "            qty=quantity,\n",
        "            side='sell',\n",
        "            type='limit',\n",
        "            time_in_force='gtc',\n",
        "            limit_price = current_price * 1.1\n",
        "        )\n",
        "    # if an excpetion is thrown, prints exception message and returns 0 to \n",
        "    # indicate a failed sell limit placement\n",
        "    except Exception as e:\n",
        "        print(e)\n",
        "        return 0\n",
        "\n",
        "    # sellLimit function returns 1 if the order is placed succesfully\n",
        "    else:\n",
        "        return 1\n",
        "        \n",
        "# Example usage\n",
        "#   result = sellLimit('AAPL', 1, 445)\n",
        "#   print(\"Result of sell limit placement is 0 for fail, 1 for success: \", result)\n",
        "\n",
        "\n",
        "\n",
        "\n",
        "def sellStocks(stockName, quantity, sellType, ToF):\n",
        "  return api.submit_order(\n",
        "      symbol=stockName,\n",
        "      qty=quantity,\n",
        "      side='sell',\n",
        "      type=sellType, # market, limit, stop, stop_limit, or trailing_stop\n",
        "      time_in_force=ToF #day, gtc, opg, cls, ioc, fok.\n",
        "  )\n",
        "\n",
        "# Example usage\n",
        "stockName = 'AAPL'\n",
        "quantity = 5\n",
        "sellType = 'market'\n",
        "ToF = 'gtc'\n",
        "#stockOrder = sellStocks(stockName, quantity, sellType, ToF)\n",
        "\n",
        "#print(stockOrder)\n",
        "\n",
        "\n",
        "\n",
        "\n",
        "\n",
        "\n",
        "\n",
        "\n",
        "\n",
        "\n",
        "#Ben\n",
        "\n",
        "#####################\n",
        "#     buyStocks     #\n",
        "#####################\n",
        "def buyStocks(stockName, quantity, buyType, ToF):\n",
        "  return api.submit_order(\n",
        "      symbol=stockName,\n",
        "      qty=quantity,\n",
        "      side='buy',\n",
        "      type=buyType, # market, limit, stop, stop_limit, or trailing_stop\n",
        "      time_in_force=ToF #day, gtc, opg, cls, ioc, fok.\n",
        "  )\n",
        "\n",
        "# Example usage\n",
        "stockName = 'AAPL'\n",
        "quantity = 5\n",
        "buyType = 'market'\n",
        "ToF = 'gtc'\n",
        "#stockOrder = buyStocks(stockName, quantity, buyType, ToF)\n",
        "\n",
        "#print(stockOrder)\n",
        "\n",
        "\n",
        "\n",
        "\n",
        "\n",
        "\n",
        "\n",
        "\n",
        "#Bryan\n",
        "\n",
        "def trailStopLimit(tick, quantity, current_price):\n",
        "    try:\n",
        "        api.submit_order(\n",
        "            symbol=symbol,\n",
        "            qty=quantity,\n",
        "            side='sell',\n",
        "            type='trailing_stop',\n",
        "            time_in_force='gtc',\n",
        "            trail_price=current_price * 0.9\n",
        "        )\n",
        "    # if an excpetion is thrown, prints exception message and returns 0 to \n",
        "    # indicate a failed sell limit placement\n",
        "    except Exception as e:\n",
        "        print(e)\n",
        "        return 0\n",
        "\n",
        "    # stopLimit function returns 1 if the order is placed succesfully\n",
        "    else:\n",
        "        return 1\n",
        "\n",
        "\n",
        "\n",
        "##############################\n",
        "# Golden/Death cross checker #\n",
        "##############################\n",
        "def maCross(ema, sma, openEprevEMAMA, prevSMA):\n",
        "  if (ema == sma) and (prevSMA < prevEMA):\n",
        "    return 1 # golden cross\n",
        "  elif (ema == sma) and (prevSMA > prevEMA):\n",
        "    return 2 # death cross\n",
        "  return 0 # no cross\n",
        "\n",
        "\n",
        "#determines if the AI should buy right now\n",
        "def isBuy(ticker, duration, timeFrame):\n",
        "  df = getStockData(ticker, duration, timeFrame)\n",
        "\n",
        "  #Drop Null Values\n",
        "  df = dropna(df)\n",
        "\n",
        "  #Declare Indicators\n",
        "  rsi = RSIIndicator(close=df[ticker][\"close\"], window=20, fillna=False)\n",
        "  macd = MACD(close=df[ticker][\"close\"], window_slow=20, window_fast = 16, window_sign= 7, fillna = False)\n",
        "  stoch = StochasticOscillator(high=df[ticker][\"high\"],low=df[ticker][\"low\"],close=df[ticker][\"close\"], window=14, smooth_window=3, fillna=False)\n",
        "  onvol = OnBalanceVolumeIndicator(close=df[ticker][\"close\"], volume=df[ticker][\"volume\"])\n",
        "  ema = EMAIndicator(close=df[ticker][\"close\"], window=200, fillna=False)\n",
        "  sma = SMAIndicator(close=df[ticker][\"close\"], window=50, fillna=False)\n",
        "  prevEMA = EMAIndicator(close=df.head(-1)[ticker][\"close\"], window=200, fillna=False)\n",
        "  prevSMA = SMAIndicator(close=df.head(-1)[ticker][\"close\"], window=50, fillna=False)\n",
        "\n",
        "  # check if there is a golden/death cross\n",
        "  # cross = maCross(ema, sma, prevEMA, prevSMA)\n",
        "\n",
        "  # Add Technical Analysis indicators to dataframes\n",
        "  df['rsi'] = rsi.rsi()\n",
        "  df['macd'] = macd.macd_diff()\n",
        "  df['stoch'] = stoch.stoch_signal()\n",
        "  df['onbalvol'] = onvol.on_balance_volume()\n",
        "  df['ema'] = ema.ema_indicator()\n",
        "  df['sma'] = sma.sma_indicator()\n",
        "\n",
        "  # get todays entry and run filter on it\n",
        "  curr = df.tail(1)\n",
        "  curr = curr.loc[(curr[\"rsi\"]>40) & (curr[\"rsi\"]<70)]\n",
        "  curr = curr.loc[(curr[\"macd\"]> -1) & (curr[\"macd\"]< 1)]\n",
        "  curr = curr.loc[(curr['stoch']> 20) & (curr['stoch']< 65)]\n",
        "\n",
        "  # if not empty after filter run, check close price is within 25% below or above ema, then check onbalance volume for slope\n",
        "  if not curr.empty:\n",
        "    close = curr[ticker][\"close\"].values\n",
        "    ema = curr[\"ema\"].values\n",
        "    if ((close > (close - (ema*.30))) | (close < (close + ema*.30))):\n",
        "      sday = df.tail(7)\n",
        "      head = sday.head(1) \n",
        "      tail = sday.tail(1)\n",
        "      dayone = (head.index.values[0] - pd.Timestamp(\"1970-01-01\")) // pd.Timedelta(\"1s\")\n",
        "      dayseven = (tail.index.values[0] - pd.Timestamp(\"1970-01-01\")) // pd.Timedelta(\"1s\")\n",
        "      #slope = (int(tail[\"onbalvol\"].values) - int(head[\"onbalvol\"].values)) / (dayseven - dayone)\n",
        "      # positive returns true, negative returns false\n",
        "      #if slope >= 0:\n",
        "      #  return True\n",
        "      #else:\n",
        "      #  return False\n",
        "      return True\n",
        "    #if price not within 30% of ema, return false\n",
        "    else:\n",
        "      return False\n",
        "  #if dataframe is null, return false\n",
        "  else:\n",
        "    return False\n",
        "\n",
        "\n",
        "#determines if the AI should buy right now\n",
        "def isSell(ticker, duration, timeFrame):\n",
        "  df = getStockData(ticker, duration, timeFrame)\n",
        "\n",
        "  #Drop Null Values\n",
        "  df = dropna(df)\n",
        "\n",
        "\n",
        "  #Declare Indicators\n",
        "  rsi = RSIIndicator(close=df[ticker][\"close\"], window=20, fillna=False)\n",
        "  macd = MACD(close=df[ticker][\"close\"], window_slow=20, window_fast = 16, window_sign= 7, fillna = False)\n",
        "  stoch = StochasticOscillator(high=df[ticker][\"high\"],low=df[ticker][\"low\"],close=df[ticker][\"close\"], window=14, smooth_window=3, fillna=False)\n",
        "  onvol = OnBalanceVolumeIndicator(close=df[ticker][\"close\"], volume=df[ticker][\"volume\"])\n",
        "  ema = EMAIndicator(close=df[ticker][\"close\"], window=200, fillna=False)\n",
        "  sma = SMAIndicator(close=df[ticker][\"close\"], window=50, fillna=False)\n",
        "\n",
        "  # Add Technical Analysis indicators to dataframes\n",
        "  df['rsi'] = rsi.rsi()\n",
        "  df['macd'] = macd.macd_diff()\n",
        "  df['stoch'] = stoch.stoch_signal()\n",
        "  df['onbalvol'] = onvol.on_balance_volume()\n",
        "  df['ema'] = ema.ema_indicator()\n",
        "  df['sma'] = sma.sma_indicator()\n",
        "\n",
        "  # get todays entry and run filter on it\n",
        "  curr = df.tail(1)\n",
        "  curr = curr.loc[(curr[\"rsi\"]>70) & (curr[\"rsi\"]<90)]\n",
        "  curr = curr.loc[(curr[\"macd\"]> -1) & (curr[\"macd\"]< 0)]\n",
        "  curr = curr.loc[(curr['stoch']> 70) & (curr['stoch']< 100)]\n",
        "\n",
        "  # if not empty after filter run, check close price is within 25% below or above ema, then check onbalance volume for slope\n",
        "  if not curr.empty:\n",
        "    close = curr[ticker][\"close\"].values\n",
        "    ema = curr[\"ema\"].values\n",
        "    if ((close > (close - ema*.25)) | (close < (close + ema*.25))):\n",
        "      sday = df.tail(7)\n",
        "      head = sday.head(1) \n",
        "      tail = sday.tail(1)\n",
        "      dayone = (head.index.values[0] - pd.Timestamp(\"1970-01-01\")) // pd.Timedelta(\"1s\")\n",
        "      dayseven = (tail.index.values[0] - pd.Timestamp(\"1970-01-01\")) // pd.Timedelta(\"1s\")\n",
        "      #slope = (int(tail[\"onbalvol\"].values) - int(head[\"onbalvol\"].values)) / (dayseven - dayone)\n",
        "      # negative slope returns true, positive returns false\n",
        "      #if slope < 0:\n",
        "      #  return True\n",
        "      #else:\n",
        "      #  return False\n",
        "      return True\n",
        "    #if price not within 25% of ema, return false\n",
        "    else:\n",
        "      return False\n",
        "  #if dataframe is null, return false\n",
        "  else:\n",
        "    return False\n",
        "\n",
        "\n",
        "\n",
        "\n",
        "#################\n",
        "#LOG REGRESSION ALGO#\n",
        "#################\n",
        "def Log_Model(tfone, tftwo, tfthree):\n",
        "    # Check that the amount of tickers isn't more than 2000\n",
        "  tickers = getTrendingTickers();\n",
        "  \n",
        "  print(\"The amount of stocks chosen to observe: \" + str(len(tickers)))\n",
        "  # These two lines remove the Stocks folder and then recreate it in order to remove old stocks. Make sure you have created a Stocks Folder the first time you run this.\n",
        "  shutil.rmtree(\"./stocks\")\n",
        "  os.mkdir(\"./stocks\")\n",
        "\n",
        "  # Holds the amount of API calls we executed\n",
        "  Amount_of_API_Calls = 0\n",
        "\n",
        "  # This while loop is reponsible for storing the historical data for each ticker in our list. Note that yahoo finance sometimes incurs json.decode errors and because of this we are sleeping for 2\n",
        "  # seconds after each iteration, also if a call fails we are going to try to execute it again.\n",
        "  # Also, do not make more than 2,000 calls per hour or 48,000 calls per day or Yahoo Finance may block your IP. The clause \"(Amount_of_API_Calls < 1800)\" below will stop the loop from making\n",
        "  # too many calls to the yfinance API.\n",
        "  # Prepare for this loop to take some time. It is pausing for 2 seconds after importing each stock.\n",
        "\n",
        "  # Used to make sure we don't waste too many API calls on one Stock ticker that could be having issues\n",
        "  Stock_Failure = 0\n",
        "  Stocks_Not_Imported = 0\n",
        "\n",
        "  # Used to iterate through our list of tickers\n",
        "  i=0\n",
        "  while (i < len(tickers)) and (Amount_of_API_Calls < 1800):\n",
        "      try:\n",
        "          stock = tickers[i]  # Gets the current stock ticker\n",
        "          temp = yf.Ticker(str(stock))\n",
        "          Hist_data = temp.history(period=\"max\")  # Tells yfinance what kind of data we want about this stock (In this example, all of the historical data)\n",
        "          Hist_data.to_csv(\"./stocks/\"+stock+\".csv\")  # Saves the historical data in csv format for further processing later\n",
        "          time.sleep(2)  # Pauses the loop for two seconds so we don't cause issues with Yahoo Finance's backend operations\n",
        "          Amount_of_API_Calls += 1 \n",
        "          Stock_Failure = 0\n",
        "          i += 1  # Iteration to the next ticker\n",
        "          print(\"Importing stock data:\" + str(i))\n",
        "      except ValueError:\n",
        "          print(\"Yahoo Finance Backend Error, Attempting to Fix\")  # An error occured on Yahoo Finance's backend. We will attempt to retreive the data again\n",
        "          if Stock_Failure > 5:  # Move on to the next ticker if the current ticker fails more than 5 times\n",
        "              i+=1\n",
        "              Stocks_Not_Imported += 1\n",
        "          Amount_of_API_Calls += 1\n",
        "          Stock_Failure += 1\n",
        "  print(\"The amount of stocks we successfully imported: \" + str(i - Stocks_Not_Imported))\n",
        "\n",
        "\n",
        "  # These two lines remove the Stocks folder and then recreate it in order to remove old stocks. Make sure you have created a Stocks Folder the first time you run this.\n",
        "  # Get the Y values\n",
        "  list_files = (glob.glob(\"./stocks/*.csv\")) # Creates a list of all csv filenames in the stocks folder\n",
        "  for interval in list_files:\n",
        "      Stock_Name = ((os.path.basename(interval)).split(\".csv\")[0])\n",
        "      data = pd.read_csv(interval)\n",
        "      dropna(data)\n",
        "      try: \n",
        "        data = add_all_ta_features(data, open=\"Open\", high=\"High\", low=\"Low\", close=\"Close\", volume=\"Volume\")\n",
        "      except:\n",
        "        continue\n",
        "\n",
        "      data = data.iloc[100:]\n",
        "      close_prices = data['Close'].tolist()\n",
        "      firsttf_Obs = []\n",
        "      secondtf_Obs = []\n",
        "      thirdtf_Obs = []\n",
        "      x = 0\n",
        "      while x < (len(data)):\n",
        "          if x < (len(data)-tfone):\n",
        "              if ((close_prices[x+1] + close_prices[x+2] + close_prices[x+3] + close_prices[x+4] + close_prices[x+5])/5) > close_prices[x]:\n",
        "                  firsttf_Obs.append(1)\n",
        "              else:\n",
        "                  firsttf_Obs.append(0)\n",
        "          else:\n",
        "              firsttf_Obs.append(0)\n",
        "          x+=1\n",
        "      y = 0\n",
        "      while y < (len(data)):\n",
        "          if y < (len(data)-tftwo):\n",
        "              secondtf = 0\n",
        "              y2 = 0\n",
        "              while y2 < tftwo:\n",
        "                  secondtf = secondtf + close_prices[y+y2]\n",
        "                  y2 += 1\n",
        "              if (secondtf/tftwo) > close_prices[y]:\n",
        "                  secondtf_Obs.append(1)\n",
        "              else:\n",
        "                  secondtf_Obs.append(0)\n",
        "          else:\n",
        "              secondtf_Obs.append(0)\n",
        "          y+=1\n",
        "      z = 0\n",
        "      while z < (len(data)):\n",
        "          if z < (len(data)-tfthree):\n",
        "              thirdtf = 0\n",
        "              z2 = 0\n",
        "              while z2 < tfthree:\n",
        "                  thirdtf = thirdtf + close_prices[z+z2]\n",
        "                  z2 += 1\n",
        "              if (thirdtf/tfthree) > close_prices[z]:\n",
        "                  thirdtf_Obs.append(1)\n",
        "              else:\n",
        "                  thirdtf_Obs.append(0)\n",
        "          else:\n",
        "              thirdtf_Obs.append(0)\n",
        "          z+=1  \n",
        "      data['ftf'] = firsttf_Obs\n",
        "      data['stf'] = secondtf_Obs\n",
        "      data['ttf'] = thirdtf_Obs\n",
        "    \n",
        "      data.to_csv(\"./stocks/\"+Stock_Name+\".csv\")\n",
        "      print(\"Data for \" + Stock_Name + \" has been substantiated with technical features.\")\n",
        "\n",
        "  Hold_Results = []\n",
        "  list_files2 = (glob.glob(\"./stocks/*.csv\")) # Creates a list of all csv filenames in the stocks folder\n",
        "  for interval2 in list_files2:\n",
        "      Stock_Name = ((os.path.basename(interval2)).split(\".csv\")[0])\n",
        "      data = pd.read_csv(interval2,index_col=0)\n",
        "      data = data.replace([np.inf, -np.inf], np.nan)\n",
        "      data = data.fillna(0)\n",
        "      try:\n",
        "        dependents = [data[\"ftf\"].to_list(), data[\"stf\"].to_list(), data[\"ttf\"].to_list()]\n",
        "  \n",
        "        data = data.drop(['ftf', 'stf', 'ttf', 'Date', 'Open', 'High', 'Low', 'Close'], axis = 1)\n",
        "        scaler = StandardScaler()\n",
        "        data = scaler.fit_transform(data)  # Standardize our data set\n",
        "        Hold_Results_Section = []\n",
        "        p = 0\n",
        "        for dep in dependents:\n",
        "            x_train, x_test, y_train, y_test =\\\n",
        "            train_test_split(data, dep, test_size=0.2, random_state=0)\n",
        "            model = LogisticRegression(solver='liblinear', C=0.05, multi_class='ovr',random_state=0)\n",
        "            model.fit(x_train, y_train)\n",
        "            y_pred = model.predict(x_test)  # To get the predicted values\n",
        "            conf = confusion_matrix(y_test, y_pred)\n",
        "            if p == 0:\n",
        "                Hold_Results.append([Stock_Name, tfone, model.score(x_train, y_train),model.score(x_test, y_test),conf[0,0],conf[0,1],conf[1,0],conf[1,1]])\n",
        "            if p == 1:\n",
        "                Hold_Results.append([Stock_Name, tftwo, model.score(x_train, y_train),model.score(x_test, y_test),conf[0,0],conf[0,1],conf[1,0],conf[1,1]])\n",
        "            if p == 2:\n",
        "                Hold_Results.append([Stock_Name, tfthree, model.score(x_train, y_train),model.score(x_test, y_test),conf[0,0],conf[0,1],conf[1,0],conf[1,1]])\n",
        "            p+=1\n",
        "        print(\"Model complete for \" + Stock_Name)   \n",
        "      except:\n",
        "        continue\n",
        "  df = pd.DataFrame(Hold_Results, columns=['Stock', 'Observation Period', 'modacctrain', 'modacctest', 'True Positives','False Positives',\n",
        "  'False Negative','True Negative'])\n",
        "  df = df[df['modacctest'] > .7]\n",
        "  getTime = pytz.timezone(\"America/Chicago\")\n",
        "  getTime = datetime.datetime.now(getTime)\n",
        "  df.to_csv(\"./drive/MyDrive/Capstone/Data/\" + str(getTime) + \".csv\", index = False)\n",
        "  return df\n",
        "\n",
        "\n",
        "\n",
        "\n",
        "\n",
        "#This gets the current time in the chicago timezone and converts it to hours:minutes:seconds\n",
        "now = pytz.timezone(\"America/Chicago\")\n",
        "now = datetime.datetime.now(now)\n",
        "#Creates the end market time. So we have to start the program at 8:45am and it will run until 2:45pm at which point the while loop should quit\n",
        "endMarket = now + timedelta(hours=8)\n",
        "strat = 1\n",
        "##############\n",
        "# Main Loop #\n",
        "##############\n",
        "\n",
        "  # get trending tickers\n",
        "account = api.get_account()\n",
        "loops = 0\n",
        "\n",
        "while now != endMarket:\n",
        "  now = pytz.timezone(\"America/Chicago\")\n",
        "  now = datetime.datetime.now(now)\n",
        "\n",
        "  #Get current holdings\n",
        "  portfolio = api.list_positions()\n",
        "  portlist = []\n",
        "  for tick in portfolio:\n",
        "    portlist.append(tick.symbol) \n",
        "\n",
        "  #Strategy Selection\n",
        "\n",
        "    if strat == 1:    \n",
        "      if isSell(tick.symbol, 1000, \"minute\"):  \n",
        "        if float(tick.unrealized_plpc) > .01:   \n",
        "            sellStocks(tick.symbol, int(tick.qty), \"limit\", \"day\")\n",
        "            print(\"Sold: \" + tick.symbol)\n",
        "    elif strat == 2:\n",
        "      if isSell(tick.symbol, 1000, \"minute\"):  \n",
        "        if float(tick.unrealized_plpc) > .1:   \n",
        "            sellStocks(tick.symbol, int(tick.qty), \"limit\", \"day\")\n",
        "            print(\"Sold: \" + tick.symbol)\n",
        "    elif strat == 3:\n",
        "      if isSell(tick.symbol, 1000, \"minute\"):  \n",
        "        if float(tick.unrealized_plpc) > .025:   \n",
        "          sellStocks(tick.symbol, int(int(tick.qty)*.1), \"limit\", \"day\")\n",
        "          print(\"Sold: \" + tick.symbol)\n",
        "        elif float(tick.unrealized_plpc) > .05:\n",
        "          sellStocks(tick.symbol, int(int(tick.qty)*.25), \"limit\", \"day\")\n",
        "          print(\"Sold: \" + tick.symbol)\n",
        "        elif float(tick.unrealized_plpc) > .075: \n",
        "          sellStocks(tick.symbol, int(int(tick.qty).50), \"limit\", \"day\")\n",
        "          print(\"Sold: \" + tick.symbol)\n",
        "        elif float(tick.unrealized_plpc) > .1:\n",
        "          sellStocks(tick.symbol, int(tick.qty), \"limit\", \"day\")\n",
        "          print(\"Sold: \" + tick.symbol)\n",
        "    elif strat == 4:\n",
        "      if isSell(tick.symbol, 1000, \"minute\"):  \n",
        "        if float(tick.unrealized_plpc) > .01:   \n",
        "          sellStocks(tick.symbol, int(int(tick.qty)*tick.unrealized_plpc), \"limit\", \"day\")\n",
        "          print(\"Sold: \" + tick.symbol)\n",
        "\n",
        "    # if false, continue holding, if true sell if profit margin met\n",
        "  print(\"Portfolio Up to date\")\n",
        "  \n",
        "  \n",
        "  \n",
        "  #at this point portfolio should be up to date\n",
        "  \n",
        "  \n",
        "  \n",
        "  # run ML algo against trending tickets\n",
        "  # check all entries for all instances where accuracy over 70% for starters\n",
        "  # returns 7 day stocks, 14 day stocks, 21 day stocks, Observation period column is ints so should be able to compare when buying\n",
        "\n",
        "  if loops == 0:\n",
        "    model_Data = Log_Model(7, 14, 21)\n",
        "    print(\"log_models Finished\")\n",
        "    initial = model_Data[\"Stock\"].to_list()\n",
        "    final = []\n",
        "    for i in initial:\n",
        "      if i not in final:\n",
        "        final.append(i)\n",
        "  # add to watch list\n",
        "  # run isbuy for all watch list tickers on specified timelength where accuracy over 75%\n",
        "  # for example, if acurracy is 76% percent for 5 day, run isbuy on the 5day timeframe to see if we can buy\n",
        "  # buy if true returned\n",
        "  # remove from watch list\n",
        "\n",
        "    for tick in final:\n",
        "      print(\"Checking: \" + tick)\n",
        "      if isBuy(tick, 1000 , \"minute\"):\n",
        "        tData = getStockData(tick, 1, \"minute\").tail(1)\n",
        "        quantity = (float(account.buying_power)*.1) / tData[tick]['close']\n",
        "        if int(quantity) == 0:\n",
        "          continue\n",
        "        if tick in portlist:\n",
        "          continue\n",
        "        buyStocks(tick, int(quantity), \"market\", \"day\")\n",
        "        trailingStopLimit(tick, int(quantity), tData[tick]['close'])\n",
        "        print(\"Bought \" + str(quantity) + \" of \" + str(tick))\n",
        "\n",
        "\n",
        "  if loops >= 6:\n",
        "    loops = 0\n",
        "  else:\n",
        "    loops += 1\n",
        "\n",
        "  time.sleep(300)\n",
        "\n",
        "\n",
        "\n",
        "\n",
        "\n",
        "\n",
        "\n",
        "# outside of while loop, once it quits\n",
        "\n",
        "# clear watch list"
      ],
      "execution_count": null,
      "outputs": [
        {
          "output_type": "stream",
          "text": [
            "Drive already mounted at /content/drive/; to attempt to forcibly remount, call drive.mount(\"/content/drive/\", force_remount=True).\n",
            "Portfolio Up to date\n",
            "The amount of stocks chosen to observe: 20\n",
            "Importing stock data:1\n",
            "Importing stock data:2\n",
            "Importing stock data:3\n",
            "Importing stock data:4\n",
            "Importing stock data:5\n",
            "Importing stock data:6\n",
            "Importing stock data:7\n",
            "Yahoo Finance Backend Error, Attempting to Fix\n",
            "Importing stock data:8\n",
            "Importing stock data:9\n",
            "Importing stock data:10\n",
            "Importing stock data:11\n",
            "Importing stock data:12\n",
            "Importing stock data:13\n",
            "Importing stock data:14\n",
            "Importing stock data:15\n",
            "Importing stock data:16\n",
            "- ARVL: 1d data not available for startTime=-2208988800 and endTime=1616683477. Only 100 years worth of day granularity data are allowed to be fetched per request.\n",
            "Importing stock data:17\n",
            "Importing stock data:18\n",
            "Importing stock data:19\n",
            "Importing stock data:20\n",
            "The amount of stocks we successfully imported: 20\n"
          ],
          "name": "stdout"
        },
        {
          "output_type": "stream",
          "text": [
            "/usr/local/lib/python3.7/dist-packages/ta/trend.py:768: RuntimeWarning: invalid value encountered in double_scalars\n",
            "  dip[i] = 100 * (self._dip[i] / self._trs[i])\n",
            "/usr/local/lib/python3.7/dist-packages/ta/trend.py:772: RuntimeWarning: invalid value encountered in double_scalars\n",
            "  din[i] = 100 * (self._din[i] / self._trs[i])\n"
          ],
          "name": "stderr"
        },
        {
          "output_type": "stream",
          "text": [
            "Data for TSLA has been substantiated with technical features.\n"
          ],
          "name": "stdout"
        },
        {
          "output_type": "stream",
          "text": [
            "/usr/local/lib/python3.7/dist-packages/ta/trend.py:768: RuntimeWarning: invalid value encountered in double_scalars\n",
            "  dip[i] = 100 * (self._dip[i] / self._trs[i])\n",
            "/usr/local/lib/python3.7/dist-packages/ta/trend.py:772: RuntimeWarning: invalid value encountered in double_scalars\n",
            "  din[i] = 100 * (self._din[i] / self._trs[i])\n"
          ],
          "name": "stderr"
        },
        {
          "output_type": "stream",
          "text": [
            "Data for SQ has been substantiated with technical features.\n"
          ],
          "name": "stdout"
        },
        {
          "output_type": "stream",
          "text": [
            "/usr/local/lib/python3.7/dist-packages/ta/trend.py:768: RuntimeWarning: invalid value encountered in double_scalars\n",
            "  dip[i] = 100 * (self._dip[i] / self._trs[i])\n",
            "/usr/local/lib/python3.7/dist-packages/ta/trend.py:772: RuntimeWarning: invalid value encountered in double_scalars\n",
            "  din[i] = 100 * (self._din[i] / self._trs[i])\n"
          ],
          "name": "stderr"
        },
        {
          "output_type": "stream",
          "text": [
            "Data for IMMP has been substantiated with technical features.\n"
          ],
          "name": "stdout"
        },
        {
          "output_type": "stream",
          "text": [
            "/usr/local/lib/python3.7/dist-packages/ta/trend.py:768: RuntimeWarning: invalid value encountered in double_scalars\n",
            "  dip[i] = 100 * (self._dip[i] / self._trs[i])\n",
            "/usr/local/lib/python3.7/dist-packages/ta/trend.py:772: RuntimeWarning: invalid value encountered in double_scalars\n",
            "  din[i] = 100 * (self._din[i] / self._trs[i])\n"
          ],
          "name": "stderr"
        },
        {
          "output_type": "stream",
          "text": [
            "Data for XPEV has been substantiated with technical features.\n"
          ],
          "name": "stdout"
        },
        {
          "output_type": "stream",
          "text": [
            "/usr/local/lib/python3.7/dist-packages/ta/trend.py:768: RuntimeWarning: invalid value encountered in double_scalars\n",
            "  dip[i] = 100 * (self._dip[i] / self._trs[i])\n",
            "/usr/local/lib/python3.7/dist-packages/ta/trend.py:772: RuntimeWarning: invalid value encountered in double_scalars\n",
            "  din[i] = 100 * (self._din[i] / self._trs[i])\n"
          ],
          "name": "stderr"
        },
        {
          "output_type": "stream",
          "text": [
            "Data for AAPL has been substantiated with technical features.\n"
          ],
          "name": "stdout"
        },
        {
          "output_type": "stream",
          "text": [
            "/usr/local/lib/python3.7/dist-packages/ta/trend.py:768: RuntimeWarning: invalid value encountered in double_scalars\n",
            "  dip[i] = 100 * (self._dip[i] / self._trs[i])\n",
            "/usr/local/lib/python3.7/dist-packages/ta/trend.py:772: RuntimeWarning: invalid value encountered in double_scalars\n",
            "  din[i] = 100 * (self._din[i] / self._trs[i])\n"
          ],
          "name": "stderr"
        },
        {
          "output_type": "stream",
          "text": [
            "Data for YM=F has been substantiated with technical features.\n"
          ],
          "name": "stdout"
        },
        {
          "output_type": "stream",
          "text": [
            "/usr/local/lib/python3.7/dist-packages/ta/trend.py:768: RuntimeWarning: invalid value encountered in double_scalars\n",
            "  dip[i] = 100 * (self._dip[i] / self._trs[i])\n",
            "/usr/local/lib/python3.7/dist-packages/ta/trend.py:772: RuntimeWarning: invalid value encountered in double_scalars\n",
            "  din[i] = 100 * (self._din[i] / self._trs[i])\n"
          ],
          "name": "stderr"
        },
        {
          "output_type": "stream",
          "text": [
            "Data for ARKK has been substantiated with technical features.\n"
          ],
          "name": "stdout"
        },
        {
          "output_type": "stream",
          "text": [
            "/usr/local/lib/python3.7/dist-packages/ta/trend.py:768: RuntimeWarning: invalid value encountered in double_scalars\n",
            "  dip[i] = 100 * (self._dip[i] / self._trs[i])\n",
            "/usr/local/lib/python3.7/dist-packages/ta/trend.py:772: RuntimeWarning: invalid value encountered in double_scalars\n",
            "  din[i] = 100 * (self._din[i] / self._trs[i])\n"
          ],
          "name": "stderr"
        },
        {
          "output_type": "stream",
          "text": [
            "Data for ES=F has been substantiated with technical features.\n"
          ],
          "name": "stdout"
        },
        {
          "output_type": "stream",
          "text": [
            "/usr/local/lib/python3.7/dist-packages/ta/trend.py:768: RuntimeWarning: invalid value encountered in double_scalars\n",
            "  dip[i] = 100 * (self._dip[i] / self._trs[i])\n",
            "/usr/local/lib/python3.7/dist-packages/ta/trend.py:772: RuntimeWarning: invalid value encountered in double_scalars\n",
            "  din[i] = 100 * (self._din[i] / self._trs[i])\n"
          ],
          "name": "stderr"
        },
        {
          "output_type": "stream",
          "text": [
            "Data for NQ=F has been substantiated with technical features.\n"
          ],
          "name": "stdout"
        },
        {
          "output_type": "stream",
          "text": [
            "/usr/local/lib/python3.7/dist-packages/ta/trend.py:768: RuntimeWarning: invalid value encountered in double_scalars\n",
            "  dip[i] = 100 * (self._dip[i] / self._trs[i])\n",
            "/usr/local/lib/python3.7/dist-packages/ta/trend.py:772: RuntimeWarning: invalid value encountered in double_scalars\n",
            "  din[i] = 100 * (self._din[i] / self._trs[i])\n"
          ],
          "name": "stderr"
        },
        {
          "output_type": "stream",
          "text": [
            "Data for WKEY has been substantiated with technical features.\n"
          ],
          "name": "stdout"
        },
        {
          "output_type": "stream",
          "text": [
            "/usr/local/lib/python3.7/dist-packages/ta/trend.py:768: RuntimeWarning: invalid value encountered in double_scalars\n",
            "  dip[i] = 100 * (self._dip[i] / self._trs[i])\n",
            "/usr/local/lib/python3.7/dist-packages/ta/trend.py:772: RuntimeWarning: invalid value encountered in double_scalars\n",
            "  din[i] = 100 * (self._din[i] / self._trs[i])\n"
          ],
          "name": "stderr"
        },
        {
          "output_type": "stream",
          "text": [
            "Data for TDOC has been substantiated with technical features.\n"
          ],
          "name": "stdout"
        },
        {
          "output_type": "stream",
          "text": [
            "/usr/local/lib/python3.7/dist-packages/ta/trend.py:768: RuntimeWarning: invalid value encountered in double_scalars\n",
            "  dip[i] = 100 * (self._dip[i] / self._trs[i])\n",
            "/usr/local/lib/python3.7/dist-packages/ta/trend.py:772: RuntimeWarning: invalid value encountered in double_scalars\n",
            "  din[i] = 100 * (self._din[i] / self._trs[i])\n"
          ],
          "name": "stderr"
        },
        {
          "output_type": "stream",
          "text": [
            "Data for NKE has been substantiated with technical features.\n"
          ],
          "name": "stdout"
        },
        {
          "output_type": "stream",
          "text": [
            "/usr/local/lib/python3.7/dist-packages/ta/trend.py:768: RuntimeWarning: invalid value encountered in double_scalars\n",
            "  dip[i] = 100 * (self._dip[i] / self._trs[i])\n",
            "/usr/local/lib/python3.7/dist-packages/ta/trend.py:772: RuntimeWarning: invalid value encountered in double_scalars\n",
            "  din[i] = 100 * (self._din[i] / self._trs[i])\n"
          ],
          "name": "stderr"
        },
        {
          "output_type": "stream",
          "text": [
            "Data for BABA has been substantiated with technical features.\n"
          ],
          "name": "stdout"
        },
        {
          "output_type": "stream",
          "text": [
            "/usr/local/lib/python3.7/dist-packages/ta/trend.py:768: RuntimeWarning: invalid value encountered in double_scalars\n",
            "  dip[i] = 100 * (self._dip[i] / self._trs[i])\n",
            "/usr/local/lib/python3.7/dist-packages/ta/trend.py:772: RuntimeWarning: invalid value encountered in double_scalars\n",
            "  din[i] = 100 * (self._din[i] / self._trs[i])\n"
          ],
          "name": "stderr"
        },
        {
          "output_type": "stream",
          "text": [
            "Data for QS has been substantiated with technical features.\n"
          ],
          "name": "stdout"
        },
        {
          "output_type": "stream",
          "text": [
            "/usr/local/lib/python3.7/dist-packages/ta/trend.py:768: RuntimeWarning: invalid value encountered in double_scalars\n",
            "  dip[i] = 100 * (self._dip[i] / self._trs[i])\n",
            "/usr/local/lib/python3.7/dist-packages/ta/trend.py:772: RuntimeWarning: invalid value encountered in double_scalars\n",
            "  din[i] = 100 * (self._din[i] / self._trs[i])\n"
          ],
          "name": "stderr"
        },
        {
          "output_type": "stream",
          "text": [
            "Data for PLTR has been substantiated with technical features.\n"
          ],
          "name": "stdout"
        },
        {
          "output_type": "stream",
          "text": [
            "/usr/local/lib/python3.7/dist-packages/ta/trend.py:768: RuntimeWarning: invalid value encountered in double_scalars\n",
            "  dip[i] = 100 * (self._dip[i] / self._trs[i])\n",
            "/usr/local/lib/python3.7/dist-packages/ta/trend.py:772: RuntimeWarning: invalid value encountered in double_scalars\n",
            "  din[i] = 100 * (self._din[i] / self._trs[i])\n"
          ],
          "name": "stderr"
        },
        {
          "output_type": "stream",
          "text": [
            "Data for ^IXIC has been substantiated with technical features.\n"
          ],
          "name": "stdout"
        },
        {
          "output_type": "stream",
          "text": [
            "/usr/local/lib/python3.7/dist-packages/ta/trend.py:768: RuntimeWarning: invalid value encountered in double_scalars\n",
            "  dip[i] = 100 * (self._dip[i] / self._trs[i])\n",
            "/usr/local/lib/python3.7/dist-packages/ta/trend.py:772: RuntimeWarning: invalid value encountered in double_scalars\n",
            "  din[i] = 100 * (self._din[i] / self._trs[i])\n"
          ],
          "name": "stderr"
        },
        {
          "output_type": "stream",
          "text": [
            "Data for NIO has been substantiated with technical features.\n"
          ],
          "name": "stdout"
        },
        {
          "output_type": "stream",
          "text": [
            "/usr/local/lib/python3.7/dist-packages/ta/trend.py:768: RuntimeWarning: invalid value encountered in double_scalars\n",
            "  dip[i] = 100 * (self._dip[i] / self._trs[i])\n",
            "/usr/local/lib/python3.7/dist-packages/ta/trend.py:772: RuntimeWarning: invalid value encountered in double_scalars\n",
            "  din[i] = 100 * (self._din[i] / self._trs[i])\n"
          ],
          "name": "stderr"
        },
        {
          "output_type": "stream",
          "text": [
            "Data for BTC-USD has been substantiated with technical features.\n"
          ],
          "name": "stdout"
        },
        {
          "output_type": "stream",
          "text": [
            "/usr/local/lib/python3.7/dist-packages/ta/trend.py:768: RuntimeWarning: invalid value encountered in double_scalars\n",
            "  dip[i] = 100 * (self._dip[i] / self._trs[i])\n",
            "/usr/local/lib/python3.7/dist-packages/ta/trend.py:772: RuntimeWarning: invalid value encountered in double_scalars\n",
            "  din[i] = 100 * (self._din[i] / self._trs[i])\n"
          ],
          "name": "stderr"
        },
        {
          "output_type": "stream",
          "text": [
            "Data for APOP has been substantiated with technical features.\n",
            "Model complete for TSLA\n",
            "Model complete for SQ\n",
            "Model complete for IMMP\n",
            "Model complete for AAPL\n",
            "Model complete for YM=F\n",
            "Model complete for ARKK\n",
            "Model complete for ES=F\n",
            "Model complete for NQ=F\n",
            "Model complete for WKEY\n",
            "Model complete for TDOC\n",
            "Model complete for NKE\n",
            "Model complete for BABA\n",
            "Model complete for QS\n",
            "Model complete for ^IXIC\n",
            "Model complete for NIO\n",
            "Model complete for BTC-USD\n",
            "Model complete for APOP\n",
            "log_models Finished\n",
            "Checking: XPEV\n",
            "Checking: ARKK\n",
            "Checking: WKEY\n",
            "Checking: QS\n",
            "Checking: PLTR\n",
            "Checking: NIO\n",
            "Portfolio Up to date\n",
            "Portfolio Up to date\n",
            "Portfolio Up to date\n",
            "Portfolio Up to date\n",
            "Portfolio Up to date\n",
            "Portfolio Up to date\n",
            "Portfolio Up to date\n",
            "The amount of stocks chosen to observe: 20\n",
            "Importing stock data:1\n",
            "Importing stock data:2\n",
            "Importing stock data:3\n",
            "Importing stock data:4\n",
            "Importing stock data:5\n",
            "Importing stock data:6\n",
            "Importing stock data:7\n",
            "Importing stock data:8\n",
            "Importing stock data:9\n",
            "Importing stock data:10\n",
            "Importing stock data:11\n",
            "Importing stock data:12\n",
            "Importing stock data:13\n",
            "Importing stock data:14\n",
            "Importing stock data:15\n",
            "Importing stock data:16\n",
            "- ARVL: 1d data not available for startTime=-2208988800 and endTime=1616685670. Only 100 years worth of day granularity data are allowed to be fetched per request.\n",
            "Importing stock data:17\n",
            "Importing stock data:18\n",
            "Importing stock data:19\n",
            "Importing stock data:20\n",
            "The amount of stocks we successfully imported: 20\n"
          ],
          "name": "stdout"
        },
        {
          "output_type": "stream",
          "text": [
            "/usr/local/lib/python3.7/dist-packages/ta/trend.py:768: RuntimeWarning: invalid value encountered in double_scalars\n",
            "  dip[i] = 100 * (self._dip[i] / self._trs[i])\n",
            "/usr/local/lib/python3.7/dist-packages/ta/trend.py:772: RuntimeWarning: invalid value encountered in double_scalars\n",
            "  din[i] = 100 * (self._din[i] / self._trs[i])\n"
          ],
          "name": "stderr"
        },
        {
          "output_type": "stream",
          "text": [
            "Data for TSLA has been substantiated with technical features.\n"
          ],
          "name": "stdout"
        },
        {
          "output_type": "stream",
          "text": [
            "/usr/local/lib/python3.7/dist-packages/ta/trend.py:768: RuntimeWarning: invalid value encountered in double_scalars\n",
            "  dip[i] = 100 * (self._dip[i] / self._trs[i])\n",
            "/usr/local/lib/python3.7/dist-packages/ta/trend.py:772: RuntimeWarning: invalid value encountered in double_scalars\n",
            "  din[i] = 100 * (self._din[i] / self._trs[i])\n"
          ],
          "name": "stderr"
        },
        {
          "output_type": "stream",
          "text": [
            "Data for SQ has been substantiated with technical features.\n"
          ],
          "name": "stdout"
        },
        {
          "output_type": "stream",
          "text": [
            "/usr/local/lib/python3.7/dist-packages/ta/trend.py:768: RuntimeWarning: invalid value encountered in double_scalars\n",
            "  dip[i] = 100 * (self._dip[i] / self._trs[i])\n",
            "/usr/local/lib/python3.7/dist-packages/ta/trend.py:772: RuntimeWarning: invalid value encountered in double_scalars\n",
            "  din[i] = 100 * (self._din[i] / self._trs[i])\n"
          ],
          "name": "stderr"
        },
        {
          "output_type": "stream",
          "text": [
            "Data for IMMP has been substantiated with technical features.\n",
            "Data for XPEV has been substantiated with technical features.\n"
          ],
          "name": "stdout"
        },
        {
          "output_type": "stream",
          "text": [
            "/usr/local/lib/python3.7/dist-packages/ta/trend.py:768: RuntimeWarning: invalid value encountered in double_scalars\n",
            "  dip[i] = 100 * (self._dip[i] / self._trs[i])\n",
            "/usr/local/lib/python3.7/dist-packages/ta/trend.py:772: RuntimeWarning: invalid value encountered in double_scalars\n",
            "  din[i] = 100 * (self._din[i] / self._trs[i])\n",
            "/usr/local/lib/python3.7/dist-packages/ta/trend.py:768: RuntimeWarning: invalid value encountered in double_scalars\n",
            "  dip[i] = 100 * (self._dip[i] / self._trs[i])\n",
            "/usr/local/lib/python3.7/dist-packages/ta/trend.py:772: RuntimeWarning: invalid value encountered in double_scalars\n",
            "  din[i] = 100 * (self._din[i] / self._trs[i])\n"
          ],
          "name": "stderr"
        },
        {
          "output_type": "stream",
          "text": [
            "Data for AAPL has been substantiated with technical features.\n"
          ],
          "name": "stdout"
        },
        {
          "output_type": "stream",
          "text": [
            "/usr/local/lib/python3.7/dist-packages/ta/trend.py:768: RuntimeWarning: invalid value encountered in double_scalars\n",
            "  dip[i] = 100 * (self._dip[i] / self._trs[i])\n",
            "/usr/local/lib/python3.7/dist-packages/ta/trend.py:772: RuntimeWarning: invalid value encountered in double_scalars\n",
            "  din[i] = 100 * (self._din[i] / self._trs[i])\n"
          ],
          "name": "stderr"
        },
        {
          "output_type": "stream",
          "text": [
            "Data for YM=F has been substantiated with technical features.\n"
          ],
          "name": "stdout"
        },
        {
          "output_type": "stream",
          "text": [
            "/usr/local/lib/python3.7/dist-packages/ta/trend.py:768: RuntimeWarning: invalid value encountered in double_scalars\n",
            "  dip[i] = 100 * (self._dip[i] / self._trs[i])\n",
            "/usr/local/lib/python3.7/dist-packages/ta/trend.py:772: RuntimeWarning: invalid value encountered in double_scalars\n",
            "  din[i] = 100 * (self._din[i] / self._trs[i])\n"
          ],
          "name": "stderr"
        },
        {
          "output_type": "stream",
          "text": [
            "Data for ARKK has been substantiated with technical features.\n"
          ],
          "name": "stdout"
        },
        {
          "output_type": "stream",
          "text": [
            "/usr/local/lib/python3.7/dist-packages/ta/trend.py:768: RuntimeWarning: invalid value encountered in double_scalars\n",
            "  dip[i] = 100 * (self._dip[i] / self._trs[i])\n",
            "/usr/local/lib/python3.7/dist-packages/ta/trend.py:772: RuntimeWarning: invalid value encountered in double_scalars\n",
            "  din[i] = 100 * (self._din[i] / self._trs[i])\n"
          ],
          "name": "stderr"
        },
        {
          "output_type": "stream",
          "text": [
            "Data for ES=F has been substantiated with technical features.\n"
          ],
          "name": "stdout"
        },
        {
          "output_type": "stream",
          "text": [
            "/usr/local/lib/python3.7/dist-packages/ta/trend.py:768: RuntimeWarning: invalid value encountered in double_scalars\n",
            "  dip[i] = 100 * (self._dip[i] / self._trs[i])\n",
            "/usr/local/lib/python3.7/dist-packages/ta/trend.py:772: RuntimeWarning: invalid value encountered in double_scalars\n",
            "  din[i] = 100 * (self._din[i] / self._trs[i])\n"
          ],
          "name": "stderr"
        },
        {
          "output_type": "stream",
          "text": [
            "Data for NQ=F has been substantiated with technical features.\n"
          ],
          "name": "stdout"
        },
        {
          "output_type": "stream",
          "text": [
            "/usr/local/lib/python3.7/dist-packages/ta/trend.py:768: RuntimeWarning: invalid value encountered in double_scalars\n",
            "  dip[i] = 100 * (self._dip[i] / self._trs[i])\n",
            "/usr/local/lib/python3.7/dist-packages/ta/trend.py:772: RuntimeWarning: invalid value encountered in double_scalars\n",
            "  din[i] = 100 * (self._din[i] / self._trs[i])\n"
          ],
          "name": "stderr"
        },
        {
          "output_type": "stream",
          "text": [
            "Data for WKEY has been substantiated with technical features.\n"
          ],
          "name": "stdout"
        },
        {
          "output_type": "stream",
          "text": [
            "/usr/local/lib/python3.7/dist-packages/ta/trend.py:768: RuntimeWarning: invalid value encountered in double_scalars\n",
            "  dip[i] = 100 * (self._dip[i] / self._trs[i])\n",
            "/usr/local/lib/python3.7/dist-packages/ta/trend.py:772: RuntimeWarning: invalid value encountered in double_scalars\n",
            "  din[i] = 100 * (self._din[i] / self._trs[i])\n"
          ],
          "name": "stderr"
        },
        {
          "output_type": "stream",
          "text": [
            "Data for TDOC has been substantiated with technical features.\n"
          ],
          "name": "stdout"
        },
        {
          "output_type": "stream",
          "text": [
            "/usr/local/lib/python3.7/dist-packages/ta/trend.py:768: RuntimeWarning: invalid value encountered in double_scalars\n",
            "  dip[i] = 100 * (self._dip[i] / self._trs[i])\n",
            "/usr/local/lib/python3.7/dist-packages/ta/trend.py:772: RuntimeWarning: invalid value encountered in double_scalars\n",
            "  din[i] = 100 * (self._din[i] / self._trs[i])\n"
          ],
          "name": "stderr"
        },
        {
          "output_type": "stream",
          "text": [
            "Data for NKE has been substantiated with technical features.\n"
          ],
          "name": "stdout"
        },
        {
          "output_type": "stream",
          "text": [
            "/usr/local/lib/python3.7/dist-packages/ta/trend.py:768: RuntimeWarning: invalid value encountered in double_scalars\n",
            "  dip[i] = 100 * (self._dip[i] / self._trs[i])\n",
            "/usr/local/lib/python3.7/dist-packages/ta/trend.py:772: RuntimeWarning: invalid value encountered in double_scalars\n",
            "  din[i] = 100 * (self._din[i] / self._trs[i])\n"
          ],
          "name": "stderr"
        },
        {
          "output_type": "stream",
          "text": [
            "Data for BABA has been substantiated with technical features.\n"
          ],
          "name": "stdout"
        },
        {
          "output_type": "stream",
          "text": [
            "/usr/local/lib/python3.7/dist-packages/ta/trend.py:768: RuntimeWarning: invalid value encountered in double_scalars\n",
            "  dip[i] = 100 * (self._dip[i] / self._trs[i])\n",
            "/usr/local/lib/python3.7/dist-packages/ta/trend.py:772: RuntimeWarning: invalid value encountered in double_scalars\n",
            "  din[i] = 100 * (self._din[i] / self._trs[i])\n"
          ],
          "name": "stderr"
        },
        {
          "output_type": "stream",
          "text": [
            "Data for QS has been substantiated with technical features.\n"
          ],
          "name": "stdout"
        },
        {
          "output_type": "stream",
          "text": [
            "/usr/local/lib/python3.7/dist-packages/ta/trend.py:768: RuntimeWarning: invalid value encountered in double_scalars\n",
            "  dip[i] = 100 * (self._dip[i] / self._trs[i])\n",
            "/usr/local/lib/python3.7/dist-packages/ta/trend.py:772: RuntimeWarning: invalid value encountered in double_scalars\n",
            "  din[i] = 100 * (self._din[i] / self._trs[i])\n"
          ],
          "name": "stderr"
        },
        {
          "output_type": "stream",
          "text": [
            "Data for PLTR has been substantiated with technical features.\n"
          ],
          "name": "stdout"
        },
        {
          "output_type": "stream",
          "text": [
            "/usr/local/lib/python3.7/dist-packages/ta/trend.py:768: RuntimeWarning: invalid value encountered in double_scalars\n",
            "  dip[i] = 100 * (self._dip[i] / self._trs[i])\n",
            "/usr/local/lib/python3.7/dist-packages/ta/trend.py:772: RuntimeWarning: invalid value encountered in double_scalars\n",
            "  din[i] = 100 * (self._din[i] / self._trs[i])\n"
          ],
          "name": "stderr"
        },
        {
          "output_type": "stream",
          "text": [
            "Data for ^IXIC has been substantiated with technical features.\n"
          ],
          "name": "stdout"
        },
        {
          "output_type": "stream",
          "text": [
            "/usr/local/lib/python3.7/dist-packages/ta/trend.py:768: RuntimeWarning: invalid value encountered in double_scalars\n",
            "  dip[i] = 100 * (self._dip[i] / self._trs[i])\n",
            "/usr/local/lib/python3.7/dist-packages/ta/trend.py:772: RuntimeWarning: invalid value encountered in double_scalars\n",
            "  din[i] = 100 * (self._din[i] / self._trs[i])\n"
          ],
          "name": "stderr"
        },
        {
          "output_type": "stream",
          "text": [
            "Data for NIO has been substantiated with technical features.\n"
          ],
          "name": "stdout"
        },
        {
          "output_type": "stream",
          "text": [
            "/usr/local/lib/python3.7/dist-packages/ta/trend.py:768: RuntimeWarning: invalid value encountered in double_scalars\n",
            "  dip[i] = 100 * (self._dip[i] / self._trs[i])\n",
            "/usr/local/lib/python3.7/dist-packages/ta/trend.py:772: RuntimeWarning: invalid value encountered in double_scalars\n",
            "  din[i] = 100 * (self._din[i] / self._trs[i])\n"
          ],
          "name": "stderr"
        },
        {
          "output_type": "stream",
          "text": [
            "Data for BTC-USD has been substantiated with technical features.\n"
          ],
          "name": "stdout"
        },
        {
          "output_type": "stream",
          "text": [
            "/usr/local/lib/python3.7/dist-packages/ta/trend.py:768: RuntimeWarning: invalid value encountered in double_scalars\n",
            "  dip[i] = 100 * (self._dip[i] / self._trs[i])\n",
            "/usr/local/lib/python3.7/dist-packages/ta/trend.py:772: RuntimeWarning: invalid value encountered in double_scalars\n",
            "  din[i] = 100 * (self._din[i] / self._trs[i])\n"
          ],
          "name": "stderr"
        },
        {
          "output_type": "stream",
          "text": [
            "Data for APOP has been substantiated with technical features.\n",
            "Model complete for TSLA\n",
            "Model complete for SQ\n",
            "Model complete for IMMP\n",
            "Model complete for AAPL\n",
            "Model complete for YM=F\n",
            "Model complete for ARKK\n",
            "Model complete for ES=F\n",
            "Model complete for NQ=F\n",
            "Model complete for WKEY\n",
            "Model complete for TDOC\n",
            "Model complete for NKE\n",
            "Model complete for BABA\n",
            "Model complete for QS\n",
            "Model complete for ^IXIC\n",
            "Model complete for NIO\n",
            "Model complete for BTC-USD\n",
            "Model complete for APOP\n",
            "log_models Finished\n",
            "Checking: XPEV\n",
            "Checking: ARKK\n",
            "Checking: WKEY\n",
            "Checking: QS\n",
            "Checking: PLTR\n",
            "Checking: NIO\n",
            "Portfolio Up to date\n",
            "Portfolio Up to date\n",
            "Portfolio Up to date\n",
            "Portfolio Up to date\n",
            "Portfolio Up to date\n",
            "Portfolio Up to date\n",
            "Portfolio Up to date\n",
            "The amount of stocks chosen to observe: 20\n",
            "Importing stock data:1\n",
            "Importing stock data:2\n",
            "Importing stock data:3\n",
            "Importing stock data:4\n",
            "- ARVL: 1d data not available for startTime=-2208988800 and endTime=1616687834. Only 100 years worth of day granularity data are allowed to be fetched per request.\n",
            "Importing stock data:5\n",
            "Importing stock data:6\n",
            "Importing stock data:7\n",
            "Importing stock data:8\n",
            "Importing stock data:9\n",
            "Importing stock data:10\n",
            "Importing stock data:11\n",
            "Importing stock data:12\n",
            "Importing stock data:13\n",
            "Importing stock data:14\n",
            "Importing stock data:15\n",
            "Importing stock data:16\n",
            "Importing stock data:17\n",
            "Importing stock data:18\n",
            "Importing stock data:19\n",
            "Importing stock data:20\n",
            "The amount of stocks we successfully imported: 20\n"
          ],
          "name": "stdout"
        },
        {
          "output_type": "stream",
          "text": [
            "/usr/local/lib/python3.7/dist-packages/ta/trend.py:768: RuntimeWarning: invalid value encountered in double_scalars\n",
            "  dip[i] = 100 * (self._dip[i] / self._trs[i])\n",
            "/usr/local/lib/python3.7/dist-packages/ta/trend.py:772: RuntimeWarning: invalid value encountered in double_scalars\n",
            "  din[i] = 100 * (self._din[i] / self._trs[i])\n"
          ],
          "name": "stderr"
        },
        {
          "output_type": "stream",
          "text": [
            "Data for TSLA has been substantiated with technical features.\n"
          ],
          "name": "stdout"
        },
        {
          "output_type": "stream",
          "text": [
            "/usr/local/lib/python3.7/dist-packages/ta/trend.py:768: RuntimeWarning: invalid value encountered in double_scalars\n",
            "  dip[i] = 100 * (self._dip[i] / self._trs[i])\n",
            "/usr/local/lib/python3.7/dist-packages/ta/trend.py:772: RuntimeWarning: invalid value encountered in double_scalars\n",
            "  din[i] = 100 * (self._din[i] / self._trs[i])\n"
          ],
          "name": "stderr"
        },
        {
          "output_type": "stream",
          "text": [
            "Data for IMMP has been substantiated with technical features.\n"
          ],
          "name": "stdout"
        },
        {
          "output_type": "stream",
          "text": [
            "/usr/local/lib/python3.7/dist-packages/ta/trend.py:768: RuntimeWarning: invalid value encountered in double_scalars\n",
            "  dip[i] = 100 * (self._dip[i] / self._trs[i])\n",
            "/usr/local/lib/python3.7/dist-packages/ta/trend.py:772: RuntimeWarning: invalid value encountered in double_scalars\n",
            "  din[i] = 100 * (self._din[i] / self._trs[i])\n"
          ],
          "name": "stderr"
        },
        {
          "output_type": "stream",
          "text": [
            "Data for CSCO has been substantiated with technical features.\n"
          ],
          "name": "stdout"
        },
        {
          "output_type": "stream",
          "text": [
            "/usr/local/lib/python3.7/dist-packages/ta/trend.py:768: RuntimeWarning: invalid value encountered in double_scalars\n",
            "  dip[i] = 100 * (self._dip[i] / self._trs[i])\n",
            "/usr/local/lib/python3.7/dist-packages/ta/trend.py:772: RuntimeWarning: invalid value encountered in double_scalars\n",
            "  din[i] = 100 * (self._din[i] / self._trs[i])\n"
          ],
          "name": "stderr"
        },
        {
          "output_type": "stream",
          "text": [
            "Data for RAD has been substantiated with technical features.\n"
          ],
          "name": "stdout"
        },
        {
          "output_type": "stream",
          "text": [
            "/usr/local/lib/python3.7/dist-packages/ta/trend.py:768: RuntimeWarning: invalid value encountered in double_scalars\n",
            "  dip[i] = 100 * (self._dip[i] / self._trs[i])\n",
            "/usr/local/lib/python3.7/dist-packages/ta/trend.py:772: RuntimeWarning: invalid value encountered in double_scalars\n",
            "  din[i] = 100 * (self._din[i] / self._trs[i])\n"
          ],
          "name": "stderr"
        },
        {
          "output_type": "stream",
          "text": [
            "Data for ^GSPC has been substantiated with technical features.\n"
          ],
          "name": "stdout"
        },
        {
          "output_type": "stream",
          "text": [
            "/usr/local/lib/python3.7/dist-packages/ta/trend.py:768: RuntimeWarning: invalid value encountered in double_scalars\n",
            "  dip[i] = 100 * (self._dip[i] / self._trs[i])\n",
            "/usr/local/lib/python3.7/dist-packages/ta/trend.py:772: RuntimeWarning: invalid value encountered in double_scalars\n",
            "  din[i] = 100 * (self._din[i] / self._trs[i])\n"
          ],
          "name": "stderr"
        },
        {
          "output_type": "stream",
          "text": [
            "Data for NQ=F has been substantiated with technical features.\n"
          ],
          "name": "stdout"
        },
        {
          "output_type": "stream",
          "text": [
            "/usr/local/lib/python3.7/dist-packages/ta/trend.py:768: RuntimeWarning: invalid value encountered in double_scalars\n",
            "  dip[i] = 100 * (self._dip[i] / self._trs[i])\n",
            "/usr/local/lib/python3.7/dist-packages/ta/trend.py:772: RuntimeWarning: invalid value encountered in double_scalars\n",
            "  din[i] = 100 * (self._din[i] / self._trs[i])\n"
          ],
          "name": "stderr"
        },
        {
          "output_type": "stream",
          "text": [
            "Data for WKEY has been substantiated with technical features.\n"
          ],
          "name": "stdout"
        },
        {
          "output_type": "stream",
          "text": [
            "/usr/local/lib/python3.7/dist-packages/ta/trend.py:768: RuntimeWarning: invalid value encountered in double_scalars\n",
            "  dip[i] = 100 * (self._dip[i] / self._trs[i])\n",
            "/usr/local/lib/python3.7/dist-packages/ta/trend.py:772: RuntimeWarning: invalid value encountered in double_scalars\n",
            "  din[i] = 100 * (self._din[i] / self._trs[i])\n",
            "/usr/local/lib/python3.7/dist-packages/ta/trend.py:798: RuntimeWarning: invalid value encountered in double_scalars\n",
            "  dip[i + self._window] = 100 * (self._dip[i] / self._trs[i])\n",
            "/usr/local/lib/python3.7/dist-packages/ta/trend.py:813: RuntimeWarning: invalid value encountered in double_scalars\n",
            "  din[i + self._window] = 100 * (self._din[i] / self._trs[i])\n"
          ],
          "name": "stderr"
        },
        {
          "output_type": "stream",
          "text": [
            "Data for NOKPF has been substantiated with technical features.\n"
          ],
          "name": "stdout"
        },
        {
          "output_type": "stream",
          "text": [
            "/usr/local/lib/python3.7/dist-packages/ta/trend.py:768: RuntimeWarning: invalid value encountered in double_scalars\n",
            "  dip[i] = 100 * (self._dip[i] / self._trs[i])\n",
            "/usr/local/lib/python3.7/dist-packages/ta/trend.py:772: RuntimeWarning: invalid value encountered in double_scalars\n",
            "  din[i] = 100 * (self._din[i] / self._trs[i])\n"
          ],
          "name": "stderr"
        },
        {
          "output_type": "stream",
          "text": [
            "Data for TDOC has been substantiated with technical features.\n"
          ],
          "name": "stdout"
        },
        {
          "output_type": "stream",
          "text": [
            "/usr/local/lib/python3.7/dist-packages/ta/trend.py:768: RuntimeWarning: invalid value encountered in double_scalars\n",
            "  dip[i] = 100 * (self._dip[i] / self._trs[i])\n",
            "/usr/local/lib/python3.7/dist-packages/ta/trend.py:772: RuntimeWarning: invalid value encountered in double_scalars\n",
            "  din[i] = 100 * (self._din[i] / self._trs[i])\n"
          ],
          "name": "stderr"
        },
        {
          "output_type": "stream",
          "text": [
            "Data for KOSS has been substantiated with technical features.\n"
          ],
          "name": "stdout"
        },
        {
          "output_type": "stream",
          "text": [
            "/usr/local/lib/python3.7/dist-packages/ta/trend.py:768: RuntimeWarning: invalid value encountered in double_scalars\n",
            "  dip[i] = 100 * (self._dip[i] / self._trs[i])\n",
            "/usr/local/lib/python3.7/dist-packages/ta/trend.py:772: RuntimeWarning: invalid value encountered in double_scalars\n",
            "  din[i] = 100 * (self._din[i] / self._trs[i])\n"
          ],
          "name": "stderr"
        },
        {
          "output_type": "stream",
          "text": [
            "Data for NKE has been substantiated with technical features.\n"
          ],
          "name": "stdout"
        },
        {
          "output_type": "stream",
          "text": [
            "/usr/local/lib/python3.7/dist-packages/ta/trend.py:768: RuntimeWarning: invalid value encountered in double_scalars\n",
            "  dip[i] = 100 * (self._dip[i] / self._trs[i])\n",
            "/usr/local/lib/python3.7/dist-packages/ta/trend.py:772: RuntimeWarning: invalid value encountered in double_scalars\n",
            "  din[i] = 100 * (self._din[i] / self._trs[i])\n"
          ],
          "name": "stderr"
        },
        {
          "output_type": "stream",
          "text": [
            "Data for AMC has been substantiated with technical features.\n"
          ],
          "name": "stdout"
        },
        {
          "output_type": "stream",
          "text": [
            "/usr/local/lib/python3.7/dist-packages/ta/trend.py:768: RuntimeWarning: invalid value encountered in double_scalars\n",
            "  dip[i] = 100 * (self._dip[i] / self._trs[i])\n",
            "/usr/local/lib/python3.7/dist-packages/ta/trend.py:772: RuntimeWarning: invalid value encountered in double_scalars\n",
            "  din[i] = 100 * (self._din[i] / self._trs[i])\n"
          ],
          "name": "stderr"
        },
        {
          "output_type": "stream",
          "text": [
            "Data for QS has been substantiated with technical features.\n"
          ],
          "name": "stdout"
        },
        {
          "output_type": "stream",
          "text": [
            "/usr/local/lib/python3.7/dist-packages/ta/trend.py:768: RuntimeWarning: invalid value encountered in double_scalars\n",
            "  dip[i] = 100 * (self._dip[i] / self._trs[i])\n",
            "/usr/local/lib/python3.7/dist-packages/ta/trend.py:772: RuntimeWarning: invalid value encountered in double_scalars\n",
            "  din[i] = 100 * (self._din[i] / self._trs[i])\n"
          ],
          "name": "stderr"
        },
        {
          "output_type": "stream",
          "text": [
            "Data for PLTR has been substantiated with technical features.\n"
          ],
          "name": "stdout"
        },
        {
          "output_type": "stream",
          "text": [
            "/usr/local/lib/python3.7/dist-packages/ta/trend.py:768: RuntimeWarning: invalid value encountered in double_scalars\n",
            "  dip[i] = 100 * (self._dip[i] / self._trs[i])\n",
            "/usr/local/lib/python3.7/dist-packages/ta/trend.py:772: RuntimeWarning: invalid value encountered in double_scalars\n",
            "  din[i] = 100 * (self._din[i] / self._trs[i])\n"
          ],
          "name": "stderr"
        },
        {
          "output_type": "stream",
          "text": [
            "Data for ^IXIC has been substantiated with technical features.\n"
          ],
          "name": "stdout"
        },
        {
          "output_type": "stream",
          "text": [
            "/usr/local/lib/python3.7/dist-packages/ta/trend.py:768: RuntimeWarning: invalid value encountered in double_scalars\n",
            "  dip[i] = 100 * (self._dip[i] / self._trs[i])\n",
            "/usr/local/lib/python3.7/dist-packages/ta/trend.py:772: RuntimeWarning: invalid value encountered in double_scalars\n",
            "  din[i] = 100 * (self._din[i] / self._trs[i])\n"
          ],
          "name": "stderr"
        },
        {
          "output_type": "stream",
          "text": [
            "Data for NIO has been substantiated with technical features.\n"
          ],
          "name": "stdout"
        },
        {
          "output_type": "stream",
          "text": [
            "/usr/local/lib/python3.7/dist-packages/ta/trend.py:768: RuntimeWarning: invalid value encountered in double_scalars\n",
            "  dip[i] = 100 * (self._dip[i] / self._trs[i])\n",
            "/usr/local/lib/python3.7/dist-packages/ta/trend.py:772: RuntimeWarning: invalid value encountered in double_scalars\n",
            "  din[i] = 100 * (self._din[i] / self._trs[i])\n"
          ],
          "name": "stderr"
        },
        {
          "output_type": "stream",
          "text": [
            "Data for BTC-USD has been substantiated with technical features.\n"
          ],
          "name": "stdout"
        },
        {
          "output_type": "stream",
          "text": [
            "/usr/local/lib/python3.7/dist-packages/ta/trend.py:768: RuntimeWarning: invalid value encountered in double_scalars\n",
            "  dip[i] = 100 * (self._dip[i] / self._trs[i])\n",
            "/usr/local/lib/python3.7/dist-packages/ta/trend.py:772: RuntimeWarning: invalid value encountered in double_scalars\n",
            "  din[i] = 100 * (self._din[i] / self._trs[i])\n"
          ],
          "name": "stderr"
        },
        {
          "output_type": "stream",
          "text": [
            "Data for TLSS has been substantiated with technical features.\n"
          ],
          "name": "stdout"
        },
        {
          "output_type": "stream",
          "text": [
            "/usr/local/lib/python3.7/dist-packages/ta/trend.py:768: RuntimeWarning: invalid value encountered in double_scalars\n",
            "  dip[i] = 100 * (self._dip[i] / self._trs[i])\n",
            "/usr/local/lib/python3.7/dist-packages/ta/trend.py:772: RuntimeWarning: invalid value encountered in double_scalars\n",
            "  din[i] = 100 * (self._din[i] / self._trs[i])\n"
          ],
          "name": "stderr"
        },
        {
          "output_type": "stream",
          "text": [
            "Data for APOP has been substantiated with technical features.\n",
            "Model complete for TSLA\n",
            "Model complete for IMMP\n",
            "Model complete for CSCO\n",
            "Model complete for RAD\n",
            "Model complete for ^GSPC\n",
            "Model complete for NQ=F\n",
            "Model complete for WKEY\n",
            "Model complete for NOKPF\n",
            "Model complete for TDOC\n",
            "Model complete for KOSS\n",
            "Model complete for NKE\n",
            "Model complete for AMC\n",
            "Model complete for QS\n",
            "Model complete for ^IXIC\n",
            "Model complete for NIO\n",
            "Model complete for BTC-USD\n",
            "Model complete for TLSS\n",
            "Model complete for APOP\n",
            "log_models Finished\n",
            "Checking: WKEY\n",
            "Checking: NOKPF\n",
            "Checking: QS\n",
            "Checking: PLTR\n",
            "Checking: NIO\n",
            "Portfolio Up to date\n",
            "Portfolio Up to date\n",
            "Portfolio Up to date\n",
            "Portfolio Up to date\n",
            "Portfolio Up to date\n",
            "Portfolio Up to date\n",
            "Portfolio Up to date\n",
            "The amount of stocks chosen to observe: 20\n",
            "Importing stock data:1\n",
            "Importing stock data:2\n",
            "Importing stock data:3\n",
            "Importing stock data:4\n",
            "Importing stock data:5\n",
            "Importing stock data:6\n",
            "Importing stock data:7\n",
            "Importing stock data:8\n",
            "Importing stock data:9\n",
            "- ARVL: 1d data not available for startTime=-2208988800 and endTime=1616690061. Only 100 years worth of day granularity data are allowed to be fetched per request.\n",
            "Importing stock data:10\n",
            "Importing stock data:11\n",
            "Importing stock data:12\n",
            "Importing stock data:13\n",
            "Importing stock data:14\n",
            "Importing stock data:15\n",
            "Importing stock data:16\n",
            "Importing stock data:17\n",
            "Importing stock data:18\n",
            "Importing stock data:19\n",
            "Importing stock data:20\n",
            "The amount of stocks we successfully imported: 20\n"
          ],
          "name": "stdout"
        },
        {
          "output_type": "stream",
          "text": [
            "/usr/local/lib/python3.7/dist-packages/ta/trend.py:768: RuntimeWarning: invalid value encountered in double_scalars\n",
            "  dip[i] = 100 * (self._dip[i] / self._trs[i])\n",
            "/usr/local/lib/python3.7/dist-packages/ta/trend.py:772: RuntimeWarning: invalid value encountered in double_scalars\n",
            "  din[i] = 100 * (self._din[i] / self._trs[i])\n"
          ],
          "name": "stderr"
        },
        {
          "output_type": "stream",
          "text": [
            "Data for TSLA has been substantiated with technical features.\n"
          ],
          "name": "stdout"
        },
        {
          "output_type": "stream",
          "text": [
            "/usr/local/lib/python3.7/dist-packages/ta/trend.py:768: RuntimeWarning: invalid value encountered in double_scalars\n",
            "  dip[i] = 100 * (self._dip[i] / self._trs[i])\n",
            "/usr/local/lib/python3.7/dist-packages/ta/trend.py:772: RuntimeWarning: invalid value encountered in double_scalars\n",
            "  din[i] = 100 * (self._din[i] / self._trs[i])\n"
          ],
          "name": "stderr"
        },
        {
          "output_type": "stream",
          "text": [
            "Data for SQ has been substantiated with technical features.\n"
          ],
          "name": "stdout"
        },
        {
          "output_type": "stream",
          "text": [
            "/usr/local/lib/python3.7/dist-packages/ta/trend.py:768: RuntimeWarning: invalid value encountered in double_scalars\n",
            "  dip[i] = 100 * (self._dip[i] / self._trs[i])\n",
            "/usr/local/lib/python3.7/dist-packages/ta/trend.py:772: RuntimeWarning: invalid value encountered in double_scalars\n",
            "  din[i] = 100 * (self._din[i] / self._trs[i])\n"
          ],
          "name": "stderr"
        },
        {
          "output_type": "stream",
          "text": [
            "Data for IMMP has been substantiated with technical features.\n"
          ],
          "name": "stdout"
        },
        {
          "output_type": "stream",
          "text": [
            "/usr/local/lib/python3.7/dist-packages/ta/trend.py:768: RuntimeWarning: invalid value encountered in double_scalars\n",
            "  dip[i] = 100 * (self._dip[i] / self._trs[i])\n",
            "/usr/local/lib/python3.7/dist-packages/ta/trend.py:772: RuntimeWarning: invalid value encountered in double_scalars\n",
            "  din[i] = 100 * (self._din[i] / self._trs[i])\n"
          ],
          "name": "stderr"
        },
        {
          "output_type": "stream",
          "text": [
            "Data for ^DJI has been substantiated with technical features.\n"
          ],
          "name": "stdout"
        },
        {
          "output_type": "stream",
          "text": [
            "/usr/local/lib/python3.7/dist-packages/ta/trend.py:768: RuntimeWarning: invalid value encountered in double_scalars\n",
            "  dip[i] = 100 * (self._dip[i] / self._trs[i])\n",
            "/usr/local/lib/python3.7/dist-packages/ta/trend.py:772: RuntimeWarning: invalid value encountered in double_scalars\n",
            "  din[i] = 100 * (self._din[i] / self._trs[i])\n"
          ],
          "name": "stderr"
        },
        {
          "output_type": "stream",
          "text": [
            "Data for RAD has been substantiated with technical features.\n",
            "Data for GDRX has been substantiated with technical features.\n"
          ],
          "name": "stdout"
        },
        {
          "output_type": "stream",
          "text": [
            "/usr/local/lib/python3.7/dist-packages/ta/trend.py:768: RuntimeWarning: invalid value encountered in double_scalars\n",
            "  dip[i] = 100 * (self._dip[i] / self._trs[i])\n",
            "/usr/local/lib/python3.7/dist-packages/ta/trend.py:772: RuntimeWarning: invalid value encountered in double_scalars\n",
            "  din[i] = 100 * (self._din[i] / self._trs[i])\n",
            "/usr/local/lib/python3.7/dist-packages/ta/trend.py:768: RuntimeWarning: invalid value encountered in double_scalars\n",
            "  dip[i] = 100 * (self._dip[i] / self._trs[i])\n",
            "/usr/local/lib/python3.7/dist-packages/ta/trend.py:772: RuntimeWarning: invalid value encountered in double_scalars\n",
            "  din[i] = 100 * (self._din[i] / self._trs[i])\n"
          ],
          "name": "stderr"
        },
        {
          "output_type": "stream",
          "text": [
            "Data for ^GSPC has been substantiated with technical features.\n"
          ],
          "name": "stdout"
        },
        {
          "output_type": "stream",
          "text": [
            "/usr/local/lib/python3.7/dist-packages/ta/trend.py:768: RuntimeWarning: invalid value encountered in double_scalars\n",
            "  dip[i] = 100 * (self._dip[i] / self._trs[i])\n",
            "/usr/local/lib/python3.7/dist-packages/ta/trend.py:772: RuntimeWarning: invalid value encountered in double_scalars\n",
            "  din[i] = 100 * (self._din[i] / self._trs[i])\n"
          ],
          "name": "stderr"
        },
        {
          "output_type": "stream",
          "text": [
            "Data for PRQR has been substantiated with technical features.\n"
          ],
          "name": "stdout"
        },
        {
          "output_type": "stream",
          "text": [
            "/usr/local/lib/python3.7/dist-packages/ta/trend.py:768: RuntimeWarning: invalid value encountered in double_scalars\n",
            "  dip[i] = 100 * (self._dip[i] / self._trs[i])\n",
            "/usr/local/lib/python3.7/dist-packages/ta/trend.py:772: RuntimeWarning: invalid value encountered in double_scalars\n",
            "  din[i] = 100 * (self._din[i] / self._trs[i])\n"
          ],
          "name": "stderr"
        },
        {
          "output_type": "stream",
          "text": [
            "Data for WKEY has been substantiated with technical features.\n"
          ],
          "name": "stdout"
        },
        {
          "output_type": "stream",
          "text": [
            "/usr/local/lib/python3.7/dist-packages/ta/trend.py:768: RuntimeWarning: invalid value encountered in double_scalars\n",
            "  dip[i] = 100 * (self._dip[i] / self._trs[i])\n",
            "/usr/local/lib/python3.7/dist-packages/ta/trend.py:772: RuntimeWarning: invalid value encountered in double_scalars\n",
            "  din[i] = 100 * (self._din[i] / self._trs[i])\n",
            "/usr/local/lib/python3.7/dist-packages/ta/trend.py:798: RuntimeWarning: invalid value encountered in double_scalars\n",
            "  dip[i + self._window] = 100 * (self._dip[i] / self._trs[i])\n",
            "/usr/local/lib/python3.7/dist-packages/ta/trend.py:813: RuntimeWarning: invalid value encountered in double_scalars\n",
            "  din[i + self._window] = 100 * (self._din[i] / self._trs[i])\n"
          ],
          "name": "stderr"
        },
        {
          "output_type": "stream",
          "text": [
            "Data for NOKPF has been substantiated with technical features.\n"
          ],
          "name": "stdout"
        },
        {
          "output_type": "stream",
          "text": [
            "/usr/local/lib/python3.7/dist-packages/ta/trend.py:768: RuntimeWarning: invalid value encountered in double_scalars\n",
            "  dip[i] = 100 * (self._dip[i] / self._trs[i])\n",
            "/usr/local/lib/python3.7/dist-packages/ta/trend.py:772: RuntimeWarning: invalid value encountered in double_scalars\n",
            "  din[i] = 100 * (self._din[i] / self._trs[i])\n"
          ],
          "name": "stderr"
        },
        {
          "output_type": "stream",
          "text": [
            "Data for TDOC has been substantiated with technical features.\n"
          ],
          "name": "stdout"
        },
        {
          "output_type": "stream",
          "text": [
            "/usr/local/lib/python3.7/dist-packages/ta/trend.py:768: RuntimeWarning: invalid value encountered in double_scalars\n",
            "  dip[i] = 100 * (self._dip[i] / self._trs[i])\n",
            "/usr/local/lib/python3.7/dist-packages/ta/trend.py:772: RuntimeWarning: invalid value encountered in double_scalars\n",
            "  din[i] = 100 * (self._din[i] / self._trs[i])\n"
          ],
          "name": "stderr"
        },
        {
          "output_type": "stream",
          "text": [
            "Data for KOSS has been substantiated with technical features.\n"
          ],
          "name": "stdout"
        },
        {
          "output_type": "stream",
          "text": [
            "/usr/local/lib/python3.7/dist-packages/ta/trend.py:768: RuntimeWarning: invalid value encountered in double_scalars\n",
            "  dip[i] = 100 * (self._dip[i] / self._trs[i])\n",
            "/usr/local/lib/python3.7/dist-packages/ta/trend.py:772: RuntimeWarning: invalid value encountered in double_scalars\n",
            "  din[i] = 100 * (self._din[i] / self._trs[i])\n"
          ],
          "name": "stderr"
        },
        {
          "output_type": "stream",
          "text": [
            "Data for NKE has been substantiated with technical features.\n"
          ],
          "name": "stdout"
        },
        {
          "output_type": "stream",
          "text": [
            "/usr/local/lib/python3.7/dist-packages/ta/trend.py:768: RuntimeWarning: invalid value encountered in double_scalars\n",
            "  dip[i] = 100 * (self._dip[i] / self._trs[i])\n",
            "/usr/local/lib/python3.7/dist-packages/ta/trend.py:772: RuntimeWarning: invalid value encountered in double_scalars\n",
            "  din[i] = 100 * (self._din[i] / self._trs[i])\n"
          ],
          "name": "stderr"
        },
        {
          "output_type": "stream",
          "text": [
            "Data for AMC has been substantiated with technical features.\n",
            "Data for PLTR has been substantiated with technical features.\n"
          ],
          "name": "stdout"
        },
        {
          "output_type": "stream",
          "text": [
            "/usr/local/lib/python3.7/dist-packages/ta/trend.py:768: RuntimeWarning: invalid value encountered in double_scalars\n",
            "  dip[i] = 100 * (self._dip[i] / self._trs[i])\n",
            "/usr/local/lib/python3.7/dist-packages/ta/trend.py:772: RuntimeWarning: invalid value encountered in double_scalars\n",
            "  din[i] = 100 * (self._din[i] / self._trs[i])\n",
            "/usr/local/lib/python3.7/dist-packages/ta/trend.py:768: RuntimeWarning: invalid value encountered in double_scalars\n",
            "  dip[i] = 100 * (self._dip[i] / self._trs[i])\n",
            "/usr/local/lib/python3.7/dist-packages/ta/trend.py:772: RuntimeWarning: invalid value encountered in double_scalars\n",
            "  din[i] = 100 * (self._din[i] / self._trs[i])\n"
          ],
          "name": "stderr"
        },
        {
          "output_type": "stream",
          "text": [
            "Data for GME has been substantiated with technical features.\n"
          ],
          "name": "stdout"
        },
        {
          "output_type": "stream",
          "text": [
            "/usr/local/lib/python3.7/dist-packages/ta/trend.py:768: RuntimeWarning: invalid value encountered in double_scalars\n",
            "  dip[i] = 100 * (self._dip[i] / self._trs[i])\n",
            "/usr/local/lib/python3.7/dist-packages/ta/trend.py:772: RuntimeWarning: invalid value encountered in double_scalars\n",
            "  din[i] = 100 * (self._din[i] / self._trs[i])\n"
          ],
          "name": "stderr"
        },
        {
          "output_type": "stream",
          "text": [
            "Data for ^IXIC has been substantiated with technical features.\n"
          ],
          "name": "stdout"
        },
        {
          "output_type": "stream",
          "text": [
            "/usr/local/lib/python3.7/dist-packages/ta/trend.py:768: RuntimeWarning: invalid value encountered in double_scalars\n",
            "  dip[i] = 100 * (self._dip[i] / self._trs[i])\n",
            "/usr/local/lib/python3.7/dist-packages/ta/trend.py:772: RuntimeWarning: invalid value encountered in double_scalars\n",
            "  din[i] = 100 * (self._din[i] / self._trs[i])\n"
          ],
          "name": "stderr"
        },
        {
          "output_type": "stream",
          "text": [
            "Data for BTC-USD has been substantiated with technical features.\n"
          ],
          "name": "stdout"
        },
        {
          "output_type": "stream",
          "text": [
            "/usr/local/lib/python3.7/dist-packages/ta/trend.py:768: RuntimeWarning: invalid value encountered in double_scalars\n",
            "  dip[i] = 100 * (self._dip[i] / self._trs[i])\n",
            "/usr/local/lib/python3.7/dist-packages/ta/trend.py:772: RuntimeWarning: invalid value encountered in double_scalars\n",
            "  din[i] = 100 * (self._din[i] / self._trs[i])\n"
          ],
          "name": "stderr"
        },
        {
          "output_type": "stream",
          "text": [
            "Data for APOP has been substantiated with technical features.\n",
            "Model complete for TSLA\n",
            "Model complete for SQ\n",
            "Model complete for IMMP\n",
            "Model complete for ^DJI\n",
            "Model complete for RAD\n",
            "Model complete for ^GSPC\n",
            "Model complete for PRQR\n",
            "Model complete for WKEY\n",
            "Model complete for NOKPF\n",
            "Model complete for TDOC\n",
            "Model complete for KOSS\n",
            "Model complete for NKE\n",
            "Model complete for AMC\n",
            "Model complete for GME\n",
            "Model complete for ^IXIC\n",
            "Model complete for BTC-USD\n",
            "Model complete for APOP\n",
            "log_models Finished\n",
            "Checking: GDRX\n",
            "Checking: PRQR\n",
            "Checking: WKEY\n",
            "Checking: NOKPF\n",
            "Checking: PLTR\n",
            "Portfolio Up to date\n",
            "Portfolio Up to date\n",
            "Portfolio Up to date\n",
            "Portfolio Up to date\n",
            "Portfolio Up to date\n",
            "Portfolio Up to date\n",
            "Portfolio Up to date\n",
            "The amount of stocks chosen to observe: 20\n",
            "Importing stock data:1\n",
            "Importing stock data:2\n",
            "Importing stock data:3\n",
            "Importing stock data:4\n",
            "Importing stock data:5\n",
            "Importing stock data:6\n",
            "Importing stock data:7\n",
            "Importing stock data:8\n",
            "Importing stock data:9\n",
            "- ARVL: 1d data not available for startTime=-2208988800 and endTime=1616692276. Only 100 years worth of day granularity data are allowed to be fetched per request.\n",
            "Importing stock data:10\n",
            "Importing stock data:11\n",
            "Importing stock data:12\n",
            "Importing stock data:13\n",
            "Importing stock data:14\n",
            "Importing stock data:15\n",
            "Importing stock data:16\n",
            "Importing stock data:17\n",
            "Importing stock data:18\n",
            "Importing stock data:19\n",
            "Importing stock data:20\n",
            "The amount of stocks we successfully imported: 20\n"
          ],
          "name": "stdout"
        },
        {
          "output_type": "stream",
          "text": [
            "/usr/local/lib/python3.7/dist-packages/ta/trend.py:768: RuntimeWarning: invalid value encountered in double_scalars\n",
            "  dip[i] = 100 * (self._dip[i] / self._trs[i])\n",
            "/usr/local/lib/python3.7/dist-packages/ta/trend.py:772: RuntimeWarning: invalid value encountered in double_scalars\n",
            "  din[i] = 100 * (self._din[i] / self._trs[i])\n"
          ],
          "name": "stderr"
        },
        {
          "output_type": "stream",
          "text": [
            "Data for TSLA has been substantiated with technical features.\n"
          ],
          "name": "stdout"
        },
        {
          "output_type": "stream",
          "text": [
            "/usr/local/lib/python3.7/dist-packages/ta/trend.py:768: RuntimeWarning: invalid value encountered in double_scalars\n",
            "  dip[i] = 100 * (self._dip[i] / self._trs[i])\n",
            "/usr/local/lib/python3.7/dist-packages/ta/trend.py:772: RuntimeWarning: invalid value encountered in double_scalars\n",
            "  din[i] = 100 * (self._din[i] / self._trs[i])\n"
          ],
          "name": "stderr"
        },
        {
          "output_type": "stream",
          "text": [
            "Data for SQ has been substantiated with technical features.\n"
          ],
          "name": "stdout"
        },
        {
          "output_type": "stream",
          "text": [
            "/usr/local/lib/python3.7/dist-packages/ta/trend.py:768: RuntimeWarning: invalid value encountered in double_scalars\n",
            "  dip[i] = 100 * (self._dip[i] / self._trs[i])\n",
            "/usr/local/lib/python3.7/dist-packages/ta/trend.py:772: RuntimeWarning: invalid value encountered in double_scalars\n",
            "  din[i] = 100 * (self._din[i] / self._trs[i])\n"
          ],
          "name": "stderr"
        },
        {
          "output_type": "stream",
          "text": [
            "Data for IMMP has been substantiated with technical features.\n"
          ],
          "name": "stdout"
        },
        {
          "output_type": "stream",
          "text": [
            "/usr/local/lib/python3.7/dist-packages/ta/trend.py:768: RuntimeWarning: invalid value encountered in double_scalars\n",
            "  dip[i] = 100 * (self._dip[i] / self._trs[i])\n",
            "/usr/local/lib/python3.7/dist-packages/ta/trend.py:772: RuntimeWarning: invalid value encountered in double_scalars\n",
            "  din[i] = 100 * (self._din[i] / self._trs[i])\n"
          ],
          "name": "stderr"
        },
        {
          "output_type": "stream",
          "text": [
            "Data for ^DJI has been substantiated with technical features.\n"
          ],
          "name": "stdout"
        },
        {
          "output_type": "stream",
          "text": [
            "/usr/local/lib/python3.7/dist-packages/ta/trend.py:768: RuntimeWarning: invalid value encountered in double_scalars\n",
            "  dip[i] = 100 * (self._dip[i] / self._trs[i])\n",
            "/usr/local/lib/python3.7/dist-packages/ta/trend.py:772: RuntimeWarning: invalid value encountered in double_scalars\n",
            "  din[i] = 100 * (self._din[i] / self._trs[i])\n"
          ],
          "name": "stderr"
        },
        {
          "output_type": "stream",
          "text": [
            "Data for RAD has been substantiated with technical features.\n"
          ],
          "name": "stdout"
        },
        {
          "output_type": "stream",
          "text": [
            "/usr/local/lib/python3.7/dist-packages/ta/trend.py:768: RuntimeWarning: invalid value encountered in double_scalars\n",
            "  dip[i] = 100 * (self._dip[i] / self._trs[i])\n",
            "/usr/local/lib/python3.7/dist-packages/ta/trend.py:772: RuntimeWarning: invalid value encountered in double_scalars\n",
            "  din[i] = 100 * (self._din[i] / self._trs[i])\n"
          ],
          "name": "stderr"
        },
        {
          "output_type": "stream",
          "text": [
            "Data for GDRX has been substantiated with technical features.\n"
          ],
          "name": "stdout"
        },
        {
          "output_type": "stream",
          "text": [
            "/usr/local/lib/python3.7/dist-packages/ta/trend.py:768: RuntimeWarning: invalid value encountered in double_scalars\n",
            "  dip[i] = 100 * (self._dip[i] / self._trs[i])\n",
            "/usr/local/lib/python3.7/dist-packages/ta/trend.py:772: RuntimeWarning: invalid value encountered in double_scalars\n",
            "  din[i] = 100 * (self._din[i] / self._trs[i])\n"
          ],
          "name": "stderr"
        },
        {
          "output_type": "stream",
          "text": [
            "Data for ^GSPC has been substantiated with technical features.\n"
          ],
          "name": "stdout"
        },
        {
          "output_type": "stream",
          "text": [
            "/usr/local/lib/python3.7/dist-packages/ta/trend.py:768: RuntimeWarning: invalid value encountered in double_scalars\n",
            "  dip[i] = 100 * (self._dip[i] / self._trs[i])\n",
            "/usr/local/lib/python3.7/dist-packages/ta/trend.py:772: RuntimeWarning: invalid value encountered in double_scalars\n",
            "  din[i] = 100 * (self._din[i] / self._trs[i])\n"
          ],
          "name": "stderr"
        },
        {
          "output_type": "stream",
          "text": [
            "Data for PRQR has been substantiated with technical features.\n"
          ],
          "name": "stdout"
        },
        {
          "output_type": "stream",
          "text": [
            "/usr/local/lib/python3.7/dist-packages/ta/trend.py:768: RuntimeWarning: invalid value encountered in double_scalars\n",
            "  dip[i] = 100 * (self._dip[i] / self._trs[i])\n",
            "/usr/local/lib/python3.7/dist-packages/ta/trend.py:772: RuntimeWarning: invalid value encountered in double_scalars\n",
            "  din[i] = 100 * (self._din[i] / self._trs[i])\n"
          ],
          "name": "stderr"
        },
        {
          "output_type": "stream",
          "text": [
            "Data for WKEY has been substantiated with technical features.\n"
          ],
          "name": "stdout"
        },
        {
          "output_type": "stream",
          "text": [
            "/usr/local/lib/python3.7/dist-packages/ta/trend.py:768: RuntimeWarning: invalid value encountered in double_scalars\n",
            "  dip[i] = 100 * (self._dip[i] / self._trs[i])\n",
            "/usr/local/lib/python3.7/dist-packages/ta/trend.py:772: RuntimeWarning: invalid value encountered in double_scalars\n",
            "  din[i] = 100 * (self._din[i] / self._trs[i])\n",
            "/usr/local/lib/python3.7/dist-packages/ta/trend.py:798: RuntimeWarning: invalid value encountered in double_scalars\n",
            "  dip[i + self._window] = 100 * (self._dip[i] / self._trs[i])\n",
            "/usr/local/lib/python3.7/dist-packages/ta/trend.py:813: RuntimeWarning: invalid value encountered in double_scalars\n",
            "  din[i + self._window] = 100 * (self._din[i] / self._trs[i])\n"
          ],
          "name": "stderr"
        },
        {
          "output_type": "stream",
          "text": [
            "Data for NOKPF has been substantiated with technical features.\n"
          ],
          "name": "stdout"
        },
        {
          "output_type": "stream",
          "text": [
            "/usr/local/lib/python3.7/dist-packages/ta/trend.py:768: RuntimeWarning: invalid value encountered in double_scalars\n",
            "  dip[i] = 100 * (self._dip[i] / self._trs[i])\n",
            "/usr/local/lib/python3.7/dist-packages/ta/trend.py:772: RuntimeWarning: invalid value encountered in double_scalars\n",
            "  din[i] = 100 * (self._din[i] / self._trs[i])\n"
          ],
          "name": "stderr"
        },
        {
          "output_type": "stream",
          "text": [
            "Data for TDOC has been substantiated with technical features.\n"
          ],
          "name": "stdout"
        },
        {
          "output_type": "stream",
          "text": [
            "/usr/local/lib/python3.7/dist-packages/ta/trend.py:768: RuntimeWarning: invalid value encountered in double_scalars\n",
            "  dip[i] = 100 * (self._dip[i] / self._trs[i])\n",
            "/usr/local/lib/python3.7/dist-packages/ta/trend.py:772: RuntimeWarning: invalid value encountered in double_scalars\n",
            "  din[i] = 100 * (self._din[i] / self._trs[i])\n"
          ],
          "name": "stderr"
        },
        {
          "output_type": "stream",
          "text": [
            "Data for KOSS has been substantiated with technical features.\n"
          ],
          "name": "stdout"
        },
        {
          "output_type": "stream",
          "text": [
            "/usr/local/lib/python3.7/dist-packages/ta/trend.py:768: RuntimeWarning: invalid value encountered in double_scalars\n",
            "  dip[i] = 100 * (self._dip[i] / self._trs[i])\n",
            "/usr/local/lib/python3.7/dist-packages/ta/trend.py:772: RuntimeWarning: invalid value encountered in double_scalars\n",
            "  din[i] = 100 * (self._din[i] / self._trs[i])\n"
          ],
          "name": "stderr"
        },
        {
          "output_type": "stream",
          "text": [
            "Data for NKE has been substantiated with technical features.\n"
          ],
          "name": "stdout"
        },
        {
          "output_type": "stream",
          "text": [
            "/usr/local/lib/python3.7/dist-packages/ta/trend.py:768: RuntimeWarning: invalid value encountered in double_scalars\n",
            "  dip[i] = 100 * (self._dip[i] / self._trs[i])\n",
            "/usr/local/lib/python3.7/dist-packages/ta/trend.py:772: RuntimeWarning: invalid value encountered in double_scalars\n",
            "  din[i] = 100 * (self._din[i] / self._trs[i])\n"
          ],
          "name": "stderr"
        },
        {
          "output_type": "stream",
          "text": [
            "Data for AMC has been substantiated with technical features.\n",
            "Data for PLTR has been substantiated with technical features.\n"
          ],
          "name": "stdout"
        },
        {
          "output_type": "stream",
          "text": [
            "/usr/local/lib/python3.7/dist-packages/ta/trend.py:768: RuntimeWarning: invalid value encountered in double_scalars\n",
            "  dip[i] = 100 * (self._dip[i] / self._trs[i])\n",
            "/usr/local/lib/python3.7/dist-packages/ta/trend.py:772: RuntimeWarning: invalid value encountered in double_scalars\n",
            "  din[i] = 100 * (self._din[i] / self._trs[i])\n",
            "/usr/local/lib/python3.7/dist-packages/ta/trend.py:768: RuntimeWarning: invalid value encountered in double_scalars\n",
            "  dip[i] = 100 * (self._dip[i] / self._trs[i])\n",
            "/usr/local/lib/python3.7/dist-packages/ta/trend.py:772: RuntimeWarning: invalid value encountered in double_scalars\n",
            "  din[i] = 100 * (self._din[i] / self._trs[i])\n"
          ],
          "name": "stderr"
        },
        {
          "output_type": "stream",
          "text": [
            "Data for GME has been substantiated with technical features.\n"
          ],
          "name": "stdout"
        },
        {
          "output_type": "stream",
          "text": [
            "/usr/local/lib/python3.7/dist-packages/ta/trend.py:768: RuntimeWarning: invalid value encountered in double_scalars\n",
            "  dip[i] = 100 * (self._dip[i] / self._trs[i])\n",
            "/usr/local/lib/python3.7/dist-packages/ta/trend.py:772: RuntimeWarning: invalid value encountered in double_scalars\n",
            "  din[i] = 100 * (self._din[i] / self._trs[i])\n"
          ],
          "name": "stderr"
        },
        {
          "output_type": "stream",
          "text": [
            "Data for ^IXIC has been substantiated with technical features.\n"
          ],
          "name": "stdout"
        },
        {
          "output_type": "stream",
          "text": [
            "/usr/local/lib/python3.7/dist-packages/ta/trend.py:768: RuntimeWarning: invalid value encountered in double_scalars\n",
            "  dip[i] = 100 * (self._dip[i] / self._trs[i])\n",
            "/usr/local/lib/python3.7/dist-packages/ta/trend.py:772: RuntimeWarning: invalid value encountered in double_scalars\n",
            "  din[i] = 100 * (self._din[i] / self._trs[i])\n"
          ],
          "name": "stderr"
        },
        {
          "output_type": "stream",
          "text": [
            "Data for BTC-USD has been substantiated with technical features.\n"
          ],
          "name": "stdout"
        },
        {
          "output_type": "stream",
          "text": [
            "/usr/local/lib/python3.7/dist-packages/ta/trend.py:768: RuntimeWarning: invalid value encountered in double_scalars\n",
            "  dip[i] = 100 * (self._dip[i] / self._trs[i])\n",
            "/usr/local/lib/python3.7/dist-packages/ta/trend.py:772: RuntimeWarning: invalid value encountered in double_scalars\n",
            "  din[i] = 100 * (self._din[i] / self._trs[i])\n"
          ],
          "name": "stderr"
        },
        {
          "output_type": "stream",
          "text": [
            "Data for APOP has been substantiated with technical features.\n",
            "Model complete for TSLA\n",
            "Model complete for SQ\n",
            "Model complete for IMMP\n",
            "Model complete for ^DJI\n",
            "Model complete for RAD\n",
            "Model complete for ^GSPC\n",
            "Model complete for PRQR\n",
            "Model complete for WKEY\n",
            "Model complete for NOKPF\n",
            "Model complete for TDOC\n",
            "Model complete for KOSS\n",
            "Model complete for NKE\n",
            "Model complete for AMC\n",
            "Model complete for GME\n",
            "Model complete for ^IXIC\n",
            "Model complete for BTC-USD\n",
            "Model complete for APOP\n",
            "log_models Finished\n",
            "Checking: GDRX\n",
            "Checking: PRQR\n",
            "Checking: WKEY\n",
            "Checking: NOKPF\n",
            "Checking: PLTR\n",
            "Portfolio Up to date\n",
            "Portfolio Up to date\n",
            "Portfolio Up to date\n",
            "Portfolio Up to date\n",
            "Portfolio Up to date\n",
            "Portfolio Up to date\n",
            "Portfolio Up to date\n",
            "The amount of stocks chosen to observe: 20\n",
            "Importing stock data:1\n",
            "Importing stock data:2\n",
            "Importing stock data:3\n",
            "- ARVL: 1d data not available for startTime=-2208988800 and endTime=1616694477. Only 100 years worth of day granularity data are allowed to be fetched per request.\n",
            "Importing stock data:4\n",
            "Importing stock data:5\n",
            "Importing stock data:6\n",
            "Importing stock data:7\n",
            "Importing stock data:8\n",
            "Importing stock data:9\n",
            "Importing stock data:10\n",
            "Importing stock data:11\n",
            "Importing stock data:12\n",
            "Importing stock data:13\n",
            "Importing stock data:14\n",
            "Importing stock data:15\n",
            "Importing stock data:16\n",
            "Importing stock data:17\n",
            "Importing stock data:18\n",
            "Importing stock data:19\n",
            "- VZIO: 1d data not available for startTime=-2208988800 and endTime=1616694514. Only 100 years worth of day granularity data are allowed to be fetched per request.\n",
            "Importing stock data:20\n",
            "The amount of stocks we successfully imported: 20\n"
          ],
          "name": "stdout"
        },
        {
          "output_type": "stream",
          "text": [
            "/usr/local/lib/python3.7/dist-packages/ta/trend.py:768: RuntimeWarning: invalid value encountered in double_scalars\n",
            "  dip[i] = 100 * (self._dip[i] / self._trs[i])\n",
            "/usr/local/lib/python3.7/dist-packages/ta/trend.py:772: RuntimeWarning: invalid value encountered in double_scalars\n",
            "  din[i] = 100 * (self._din[i] / self._trs[i])\n"
          ],
          "name": "stderr"
        },
        {
          "output_type": "stream",
          "text": [
            "Data for TSLA has been substantiated with technical features.\n"
          ],
          "name": "stdout"
        },
        {
          "output_type": "stream",
          "text": [
            "/usr/local/lib/python3.7/dist-packages/ta/trend.py:768: RuntimeWarning: invalid value encountered in double_scalars\n",
            "  dip[i] = 100 * (self._dip[i] / self._trs[i])\n",
            "/usr/local/lib/python3.7/dist-packages/ta/trend.py:772: RuntimeWarning: invalid value encountered in double_scalars\n",
            "  din[i] = 100 * (self._din[i] / self._trs[i])\n"
          ],
          "name": "stderr"
        },
        {
          "output_type": "stream",
          "text": [
            "Data for NVAX has been substantiated with technical features.\n"
          ],
          "name": "stdout"
        },
        {
          "output_type": "stream",
          "text": [
            "/usr/local/lib/python3.7/dist-packages/ta/trend.py:768: RuntimeWarning: invalid value encountered in double_scalars\n",
            "  dip[i] = 100 * (self._dip[i] / self._trs[i])\n",
            "/usr/local/lib/python3.7/dist-packages/ta/trend.py:772: RuntimeWarning: invalid value encountered in double_scalars\n",
            "  din[i] = 100 * (self._din[i] / self._trs[i])\n"
          ],
          "name": "stderr"
        },
        {
          "output_type": "stream",
          "text": [
            "Data for IMMP has been substantiated with technical features.\n"
          ],
          "name": "stdout"
        },
        {
          "output_type": "stream",
          "text": [
            "/usr/local/lib/python3.7/dist-packages/ta/trend.py:768: RuntimeWarning: invalid value encountered in double_scalars\n",
            "  dip[i] = 100 * (self._dip[i] / self._trs[i])\n",
            "/usr/local/lib/python3.7/dist-packages/ta/trend.py:772: RuntimeWarning: invalid value encountered in double_scalars\n",
            "  din[i] = 100 * (self._din[i] / self._trs[i])\n"
          ],
          "name": "stderr"
        },
        {
          "output_type": "stream",
          "text": [
            "Data for ZOM has been substantiated with technical features.\n"
          ],
          "name": "stdout"
        },
        {
          "output_type": "stream",
          "text": [
            "/usr/local/lib/python3.7/dist-packages/ta/trend.py:768: RuntimeWarning: invalid value encountered in double_scalars\n",
            "  dip[i] = 100 * (self._dip[i] / self._trs[i])\n",
            "/usr/local/lib/python3.7/dist-packages/ta/trend.py:772: RuntimeWarning: invalid value encountered in double_scalars\n",
            "  din[i] = 100 * (self._din[i] / self._trs[i])\n"
          ],
          "name": "stderr"
        },
        {
          "output_type": "stream",
          "text": [
            "Data for RAD has been substantiated with technical features.\n",
            "Data for CCIV has been substantiated with technical features.\n"
          ],
          "name": "stdout"
        },
        {
          "output_type": "stream",
          "text": [
            "/usr/local/lib/python3.7/dist-packages/ta/trend.py:768: RuntimeWarning: invalid value encountered in double_scalars\n",
            "  dip[i] = 100 * (self._dip[i] / self._trs[i])\n",
            "/usr/local/lib/python3.7/dist-packages/ta/trend.py:772: RuntimeWarning: invalid value encountered in double_scalars\n",
            "  din[i] = 100 * (self._din[i] / self._trs[i])\n",
            "/usr/local/lib/python3.7/dist-packages/ta/trend.py:768: RuntimeWarning: invalid value encountered in double_scalars\n",
            "  dip[i] = 100 * (self._dip[i] / self._trs[i])\n",
            "/usr/local/lib/python3.7/dist-packages/ta/trend.py:772: RuntimeWarning: invalid value encountered in double_scalars\n",
            "  din[i] = 100 * (self._din[i] / self._trs[i])\n"
          ],
          "name": "stderr"
        },
        {
          "output_type": "stream",
          "text": [
            "Data for ^GSPC has been substantiated with technical features.\n"
          ],
          "name": "stdout"
        },
        {
          "output_type": "stream",
          "text": [
            "/usr/local/lib/python3.7/dist-packages/ta/trend.py:768: RuntimeWarning: invalid value encountered in double_scalars\n",
            "  dip[i] = 100 * (self._dip[i] / self._trs[i])\n",
            "/usr/local/lib/python3.7/dist-packages/ta/trend.py:772: RuntimeWarning: invalid value encountered in double_scalars\n",
            "  din[i] = 100 * (self._din[i] / self._trs[i])\n"
          ],
          "name": "stderr"
        },
        {
          "output_type": "stream",
          "text": [
            "Data for PRQR has been substantiated with technical features.\n"
          ],
          "name": "stdout"
        },
        {
          "output_type": "stream",
          "text": [
            "/usr/local/lib/python3.7/dist-packages/ta/trend.py:768: RuntimeWarning: invalid value encountered in double_scalars\n",
            "  dip[i] = 100 * (self._dip[i] / self._trs[i])\n",
            "/usr/local/lib/python3.7/dist-packages/ta/trend.py:772: RuntimeWarning: invalid value encountered in double_scalars\n",
            "  din[i] = 100 * (self._din[i] / self._trs[i])\n"
          ],
          "name": "stderr"
        },
        {
          "output_type": "stream",
          "text": [
            "Data for WKEY has been substantiated with technical features.\n"
          ],
          "name": "stdout"
        },
        {
          "output_type": "stream",
          "text": [
            "/usr/local/lib/python3.7/dist-packages/ta/trend.py:768: RuntimeWarning: invalid value encountered in double_scalars\n",
            "  dip[i] = 100 * (self._dip[i] / self._trs[i])\n",
            "/usr/local/lib/python3.7/dist-packages/ta/trend.py:772: RuntimeWarning: invalid value encountered in double_scalars\n",
            "  din[i] = 100 * (self._din[i] / self._trs[i])\n"
          ],
          "name": "stderr"
        },
        {
          "output_type": "stream",
          "text": [
            "Data for KOSS has been substantiated with technical features.\n"
          ],
          "name": "stdout"
        },
        {
          "output_type": "stream",
          "text": [
            "/usr/local/lib/python3.7/dist-packages/ta/trend.py:768: RuntimeWarning: invalid value encountered in double_scalars\n",
            "  dip[i] = 100 * (self._dip[i] / self._trs[i])\n",
            "/usr/local/lib/python3.7/dist-packages/ta/trend.py:772: RuntimeWarning: invalid value encountered in double_scalars\n",
            "  din[i] = 100 * (self._din[i] / self._trs[i])\n"
          ],
          "name": "stderr"
        },
        {
          "output_type": "stream",
          "text": [
            "Data for NKE has been substantiated with technical features.\n"
          ],
          "name": "stdout"
        },
        {
          "output_type": "stream",
          "text": [
            "/usr/local/lib/python3.7/dist-packages/ta/trend.py:768: RuntimeWarning: invalid value encountered in double_scalars\n",
            "  dip[i] = 100 * (self._dip[i] / self._trs[i])\n",
            "/usr/local/lib/python3.7/dist-packages/ta/trend.py:772: RuntimeWarning: invalid value encountered in double_scalars\n",
            "  din[i] = 100 * (self._din[i] / self._trs[i])\n"
          ],
          "name": "stderr"
        },
        {
          "output_type": "stream",
          "text": [
            "Data for AMC has been substantiated with technical features.\n",
            "Data for PLTR has been substantiated with technical features.\n"
          ],
          "name": "stdout"
        },
        {
          "output_type": "stream",
          "text": [
            "/usr/local/lib/python3.7/dist-packages/ta/trend.py:768: RuntimeWarning: invalid value encountered in double_scalars\n",
            "  dip[i] = 100 * (self._dip[i] / self._trs[i])\n",
            "/usr/local/lib/python3.7/dist-packages/ta/trend.py:772: RuntimeWarning: invalid value encountered in double_scalars\n",
            "  din[i] = 100 * (self._din[i] / self._trs[i])\n",
            "/usr/local/lib/python3.7/dist-packages/ta/trend.py:768: RuntimeWarning: invalid value encountered in double_scalars\n",
            "  dip[i] = 100 * (self._dip[i] / self._trs[i])\n",
            "/usr/local/lib/python3.7/dist-packages/ta/trend.py:772: RuntimeWarning: invalid value encountered in double_scalars\n",
            "  din[i] = 100 * (self._din[i] / self._trs[i])\n"
          ],
          "name": "stderr"
        },
        {
          "output_type": "stream",
          "text": [
            "Data for GME has been substantiated with technical features.\n"
          ],
          "name": "stdout"
        },
        {
          "output_type": "stream",
          "text": [
            "/usr/local/lib/python3.7/dist-packages/ta/trend.py:768: RuntimeWarning: invalid value encountered in double_scalars\n",
            "  dip[i] = 100 * (self._dip[i] / self._trs[i])\n",
            "/usr/local/lib/python3.7/dist-packages/ta/trend.py:772: RuntimeWarning: invalid value encountered in double_scalars\n",
            "  din[i] = 100 * (self._din[i] / self._trs[i])\n"
          ],
          "name": "stderr"
        },
        {
          "output_type": "stream",
          "text": [
            "Data for ^IXIC has been substantiated with technical features.\n"
          ],
          "name": "stdout"
        },
        {
          "output_type": "stream",
          "text": [
            "/usr/local/lib/python3.7/dist-packages/ta/trend.py:768: RuntimeWarning: invalid value encountered in double_scalars\n",
            "  dip[i] = 100 * (self._dip[i] / self._trs[i])\n",
            "/usr/local/lib/python3.7/dist-packages/ta/trend.py:772: RuntimeWarning: invalid value encountered in double_scalars\n",
            "  din[i] = 100 * (self._din[i] / self._trs[i])\n"
          ],
          "name": "stderr"
        },
        {
          "output_type": "stream",
          "text": [
            "Data for BTC-USD has been substantiated with technical features.\n"
          ],
          "name": "stdout"
        },
        {
          "output_type": "stream",
          "text": [
            "/usr/local/lib/python3.7/dist-packages/ta/trend.py:768: RuntimeWarning: invalid value encountered in double_scalars\n",
            "  dip[i] = 100 * (self._dip[i] / self._trs[i])\n",
            "/usr/local/lib/python3.7/dist-packages/ta/trend.py:772: RuntimeWarning: invalid value encountered in double_scalars\n",
            "  din[i] = 100 * (self._din[i] / self._trs[i])\n"
          ],
          "name": "stderr"
        },
        {
          "output_type": "stream",
          "text": [
            "Data for TLSS has been substantiated with technical features.\n"
          ],
          "name": "stdout"
        },
        {
          "output_type": "stream",
          "text": [
            "/usr/local/lib/python3.7/dist-packages/ta/trend.py:768: RuntimeWarning: invalid value encountered in double_scalars\n",
            "  dip[i] = 100 * (self._dip[i] / self._trs[i])\n",
            "/usr/local/lib/python3.7/dist-packages/ta/trend.py:772: RuntimeWarning: invalid value encountered in double_scalars\n",
            "  din[i] = 100 * (self._din[i] / self._trs[i])\n"
          ],
          "name": "stderr"
        },
        {
          "output_type": "stream",
          "text": [
            "Data for APOP has been substantiated with technical features.\n",
            "Model complete for TSLA\n",
            "Model complete for NVAX\n",
            "Model complete for IMMP\n",
            "Model complete for ZOM\n",
            "Model complete for RAD\n",
            "Model complete for CCIV\n",
            "Model complete for ^GSPC\n",
            "Model complete for PRQR\n",
            "Model complete for WKEY\n",
            "Model complete for KOSS\n",
            "Model complete for NKE\n",
            "Model complete for AMC\n",
            "Model complete for GME\n",
            "Model complete for ^IXIC\n",
            "Model complete for BTC-USD\n",
            "Model complete for TLSS\n",
            "Model complete for APOP\n",
            "log_models Finished\n",
            "Checking: ZOM\n",
            "Checking: CCIV\n",
            "Checking: PRQR\n",
            "Checking: WKEY\n",
            "Checking: PLTR\n",
            "Portfolio Up to date\n",
            "Portfolio Up to date\n",
            "Portfolio Up to date\n",
            "Portfolio Up to date\n",
            "Portfolio Up to date\n",
            "Portfolio Up to date\n",
            "Portfolio Up to date\n",
            "The amount of stocks chosen to observe: 20\n",
            "Importing stock data:1\n",
            "Importing stock data:2\n",
            "Importing stock data:3\n",
            "- ARVL: 1d data not available for startTime=-2208988800 and endTime=1616696688. Only 100 years worth of day granularity data are allowed to be fetched per request.\n",
            "Importing stock data:4\n",
            "Importing stock data:5\n",
            "Importing stock data:6\n",
            "Importing stock data:7\n",
            "Importing stock data:8\n",
            "Importing stock data:9\n",
            "Importing stock data:10\n",
            "Importing stock data:11\n",
            "Importing stock data:12\n",
            "Importing stock data:13\n",
            "Importing stock data:14\n",
            "Importing stock data:15\n",
            "Importing stock data:16\n",
            "Importing stock data:17\n",
            "Importing stock data:18\n",
            "Importing stock data:19\n",
            "- VZIO: 1d data not available for startTime=-2208988800 and endTime=1616696726. Only 100 years worth of day granularity data are allowed to be fetched per request.\n",
            "Importing stock data:20\n",
            "The amount of stocks we successfully imported: 20\n"
          ],
          "name": "stdout"
        },
        {
          "output_type": "stream",
          "text": [
            "/usr/local/lib/python3.7/dist-packages/ta/trend.py:768: RuntimeWarning: invalid value encountered in double_scalars\n",
            "  dip[i] = 100 * (self._dip[i] / self._trs[i])\n",
            "/usr/local/lib/python3.7/dist-packages/ta/trend.py:772: RuntimeWarning: invalid value encountered in double_scalars\n",
            "  din[i] = 100 * (self._din[i] / self._trs[i])\n"
          ],
          "name": "stderr"
        },
        {
          "output_type": "stream",
          "text": [
            "Data for TSLA has been substantiated with technical features.\n"
          ],
          "name": "stdout"
        },
        {
          "output_type": "stream",
          "text": [
            "/usr/local/lib/python3.7/dist-packages/ta/trend.py:768: RuntimeWarning: invalid value encountered in double_scalars\n",
            "  dip[i] = 100 * (self._dip[i] / self._trs[i])\n",
            "/usr/local/lib/python3.7/dist-packages/ta/trend.py:772: RuntimeWarning: invalid value encountered in double_scalars\n",
            "  din[i] = 100 * (self._din[i] / self._trs[i])\n"
          ],
          "name": "stderr"
        },
        {
          "output_type": "stream",
          "text": [
            "Data for NVAX has been substantiated with technical features.\n"
          ],
          "name": "stdout"
        },
        {
          "output_type": "stream",
          "text": [
            "/usr/local/lib/python3.7/dist-packages/ta/trend.py:768: RuntimeWarning: invalid value encountered in double_scalars\n",
            "  dip[i] = 100 * (self._dip[i] / self._trs[i])\n",
            "/usr/local/lib/python3.7/dist-packages/ta/trend.py:772: RuntimeWarning: invalid value encountered in double_scalars\n",
            "  din[i] = 100 * (self._din[i] / self._trs[i])\n"
          ],
          "name": "stderr"
        },
        {
          "output_type": "stream",
          "text": [
            "Data for IMMP has been substantiated with technical features.\n"
          ],
          "name": "stdout"
        },
        {
          "output_type": "stream",
          "text": [
            "/usr/local/lib/python3.7/dist-packages/ta/trend.py:768: RuntimeWarning: invalid value encountered in double_scalars\n",
            "  dip[i] = 100 * (self._dip[i] / self._trs[i])\n",
            "/usr/local/lib/python3.7/dist-packages/ta/trend.py:772: RuntimeWarning: invalid value encountered in double_scalars\n",
            "  din[i] = 100 * (self._din[i] / self._trs[i])\n"
          ],
          "name": "stderr"
        },
        {
          "output_type": "stream",
          "text": [
            "Data for ZOM has been substantiated with technical features.\n"
          ],
          "name": "stdout"
        },
        {
          "output_type": "stream",
          "text": [
            "/usr/local/lib/python3.7/dist-packages/ta/trend.py:768: RuntimeWarning: invalid value encountered in double_scalars\n",
            "  dip[i] = 100 * (self._dip[i] / self._trs[i])\n",
            "/usr/local/lib/python3.7/dist-packages/ta/trend.py:772: RuntimeWarning: invalid value encountered in double_scalars\n",
            "  din[i] = 100 * (self._din[i] / self._trs[i])\n"
          ],
          "name": "stderr"
        },
        {
          "output_type": "stream",
          "text": [
            "Data for RAD has been substantiated with technical features.\n"
          ],
          "name": "stdout"
        },
        {
          "output_type": "stream",
          "text": [
            "/usr/local/lib/python3.7/dist-packages/ta/trend.py:768: RuntimeWarning: invalid value encountered in double_scalars\n",
            "  dip[i] = 100 * (self._dip[i] / self._trs[i])\n",
            "/usr/local/lib/python3.7/dist-packages/ta/trend.py:772: RuntimeWarning: invalid value encountered in double_scalars\n",
            "  din[i] = 100 * (self._din[i] / self._trs[i])\n"
          ],
          "name": "stderr"
        },
        {
          "output_type": "stream",
          "text": [
            "Data for CCIV has been substantiated with technical features.\n"
          ],
          "name": "stdout"
        },
        {
          "output_type": "stream",
          "text": [
            "/usr/local/lib/python3.7/dist-packages/ta/trend.py:768: RuntimeWarning: invalid value encountered in double_scalars\n",
            "  dip[i] = 100 * (self._dip[i] / self._trs[i])\n",
            "/usr/local/lib/python3.7/dist-packages/ta/trend.py:772: RuntimeWarning: invalid value encountered in double_scalars\n",
            "  din[i] = 100 * (self._din[i] / self._trs[i])\n"
          ],
          "name": "stderr"
        },
        {
          "output_type": "stream",
          "text": [
            "Data for ^GSPC has been substantiated with technical features.\n"
          ],
          "name": "stdout"
        },
        {
          "output_type": "stream",
          "text": [
            "/usr/local/lib/python3.7/dist-packages/ta/trend.py:768: RuntimeWarning: invalid value encountered in double_scalars\n",
            "  dip[i] = 100 * (self._dip[i] / self._trs[i])\n",
            "/usr/local/lib/python3.7/dist-packages/ta/trend.py:772: RuntimeWarning: invalid value encountered in double_scalars\n",
            "  din[i] = 100 * (self._din[i] / self._trs[i])\n"
          ],
          "name": "stderr"
        },
        {
          "output_type": "stream",
          "text": [
            "Data for PRQR has been substantiated with technical features.\n"
          ],
          "name": "stdout"
        },
        {
          "output_type": "stream",
          "text": [
            "/usr/local/lib/python3.7/dist-packages/ta/trend.py:768: RuntimeWarning: invalid value encountered in double_scalars\n",
            "  dip[i] = 100 * (self._dip[i] / self._trs[i])\n",
            "/usr/local/lib/python3.7/dist-packages/ta/trend.py:772: RuntimeWarning: invalid value encountered in double_scalars\n",
            "  din[i] = 100 * (self._din[i] / self._trs[i])\n"
          ],
          "name": "stderr"
        },
        {
          "output_type": "stream",
          "text": [
            "Data for WKEY has been substantiated with technical features.\n"
          ],
          "name": "stdout"
        },
        {
          "output_type": "stream",
          "text": [
            "/usr/local/lib/python3.7/dist-packages/ta/trend.py:768: RuntimeWarning: invalid value encountered in double_scalars\n",
            "  dip[i] = 100 * (self._dip[i] / self._trs[i])\n",
            "/usr/local/lib/python3.7/dist-packages/ta/trend.py:772: RuntimeWarning: invalid value encountered in double_scalars\n",
            "  din[i] = 100 * (self._din[i] / self._trs[i])\n"
          ],
          "name": "stderr"
        },
        {
          "output_type": "stream",
          "text": [
            "Data for KOSS has been substantiated with technical features.\n"
          ],
          "name": "stdout"
        },
        {
          "output_type": "stream",
          "text": [
            "/usr/local/lib/python3.7/dist-packages/ta/trend.py:768: RuntimeWarning: invalid value encountered in double_scalars\n",
            "  dip[i] = 100 * (self._dip[i] / self._trs[i])\n",
            "/usr/local/lib/python3.7/dist-packages/ta/trend.py:772: RuntimeWarning: invalid value encountered in double_scalars\n",
            "  din[i] = 100 * (self._din[i] / self._trs[i])\n"
          ],
          "name": "stderr"
        },
        {
          "output_type": "stream",
          "text": [
            "Data for NKE has been substantiated with technical features.\n"
          ],
          "name": "stdout"
        },
        {
          "output_type": "stream",
          "text": [
            "/usr/local/lib/python3.7/dist-packages/ta/trend.py:768: RuntimeWarning: invalid value encountered in double_scalars\n",
            "  dip[i] = 100 * (self._dip[i] / self._trs[i])\n",
            "/usr/local/lib/python3.7/dist-packages/ta/trend.py:772: RuntimeWarning: invalid value encountered in double_scalars\n",
            "  din[i] = 100 * (self._din[i] / self._trs[i])\n"
          ],
          "name": "stderr"
        },
        {
          "output_type": "stream",
          "text": [
            "Data for AMC has been substantiated with technical features.\n",
            "Data for PLTR has been substantiated with technical features.\n"
          ],
          "name": "stdout"
        },
        {
          "output_type": "stream",
          "text": [
            "/usr/local/lib/python3.7/dist-packages/ta/trend.py:768: RuntimeWarning: invalid value encountered in double_scalars\n",
            "  dip[i] = 100 * (self._dip[i] / self._trs[i])\n",
            "/usr/local/lib/python3.7/dist-packages/ta/trend.py:772: RuntimeWarning: invalid value encountered in double_scalars\n",
            "  din[i] = 100 * (self._din[i] / self._trs[i])\n",
            "/usr/local/lib/python3.7/dist-packages/ta/trend.py:768: RuntimeWarning: invalid value encountered in double_scalars\n",
            "  dip[i] = 100 * (self._dip[i] / self._trs[i])\n",
            "/usr/local/lib/python3.7/dist-packages/ta/trend.py:772: RuntimeWarning: invalid value encountered in double_scalars\n",
            "  din[i] = 100 * (self._din[i] / self._trs[i])\n"
          ],
          "name": "stderr"
        },
        {
          "output_type": "stream",
          "text": [
            "Data for GME has been substantiated with technical features.\n"
          ],
          "name": "stdout"
        },
        {
          "output_type": "stream",
          "text": [
            "/usr/local/lib/python3.7/dist-packages/ta/trend.py:768: RuntimeWarning: invalid value encountered in double_scalars\n",
            "  dip[i] = 100 * (self._dip[i] / self._trs[i])\n",
            "/usr/local/lib/python3.7/dist-packages/ta/trend.py:772: RuntimeWarning: invalid value encountered in double_scalars\n",
            "  din[i] = 100 * (self._din[i] / self._trs[i])\n"
          ],
          "name": "stderr"
        },
        {
          "output_type": "stream",
          "text": [
            "Data for ^IXIC has been substantiated with technical features.\n"
          ],
          "name": "stdout"
        },
        {
          "output_type": "stream",
          "text": [
            "/usr/local/lib/python3.7/dist-packages/ta/trend.py:768: RuntimeWarning: invalid value encountered in double_scalars\n",
            "  dip[i] = 100 * (self._dip[i] / self._trs[i])\n",
            "/usr/local/lib/python3.7/dist-packages/ta/trend.py:772: RuntimeWarning: invalid value encountered in double_scalars\n",
            "  din[i] = 100 * (self._din[i] / self._trs[i])\n"
          ],
          "name": "stderr"
        },
        {
          "output_type": "stream",
          "text": [
            "Data for BTC-USD has been substantiated with technical features.\n"
          ],
          "name": "stdout"
        },
        {
          "output_type": "stream",
          "text": [
            "/usr/local/lib/python3.7/dist-packages/ta/trend.py:768: RuntimeWarning: invalid value encountered in double_scalars\n",
            "  dip[i] = 100 * (self._dip[i] / self._trs[i])\n",
            "/usr/local/lib/python3.7/dist-packages/ta/trend.py:772: RuntimeWarning: invalid value encountered in double_scalars\n",
            "  din[i] = 100 * (self._din[i] / self._trs[i])\n"
          ],
          "name": "stderr"
        },
        {
          "output_type": "stream",
          "text": [
            "Data for TLSS has been substantiated with technical features.\n"
          ],
          "name": "stdout"
        },
        {
          "output_type": "stream",
          "text": [
            "/usr/local/lib/python3.7/dist-packages/ta/trend.py:768: RuntimeWarning: invalid value encountered in double_scalars\n",
            "  dip[i] = 100 * (self._dip[i] / self._trs[i])\n",
            "/usr/local/lib/python3.7/dist-packages/ta/trend.py:772: RuntimeWarning: invalid value encountered in double_scalars\n",
            "  din[i] = 100 * (self._din[i] / self._trs[i])\n"
          ],
          "name": "stderr"
        },
        {
          "output_type": "stream",
          "text": [
            "Data for APOP has been substantiated with technical features.\n",
            "Model complete for TSLA\n",
            "Model complete for NVAX\n",
            "Model complete for IMMP\n",
            "Model complete for ZOM\n",
            "Model complete for RAD\n",
            "Model complete for CCIV\n",
            "Model complete for ^GSPC\n",
            "Model complete for PRQR\n",
            "Model complete for WKEY\n",
            "Model complete for KOSS\n",
            "Model complete for NKE\n",
            "Model complete for AMC\n",
            "Model complete for GME\n",
            "Model complete for ^IXIC\n",
            "Model complete for BTC-USD\n",
            "Model complete for TLSS\n",
            "Model complete for APOP\n",
            "log_models Finished\n",
            "Checking: ZOM\n",
            "Checking: CCIV\n",
            "Checking: WKEY\n",
            "Checking: PLTR\n",
            "Portfolio Up to date\n",
            "Portfolio Up to date\n",
            "Portfolio Up to date\n",
            "Portfolio Up to date\n",
            "Portfolio Up to date\n",
            "Portfolio Up to date\n",
            "Portfolio Up to date\n",
            "The amount of stocks chosen to observe: 20\n",
            "Importing stock data:1\n",
            "Importing stock data:2\n",
            "Importing stock data:3\n",
            "Importing stock data:4\n",
            "Importing stock data:5\n",
            "Importing stock data:6\n",
            "- VZIO: 1d data not available for startTime=-2208988800 and endTime=1616698907. Only 100 years worth of day granularity data are allowed to be fetched per request.\n",
            "Importing stock data:7\n",
            "- ARVL: 1d data not available for startTime=-2208988800 and endTime=1616698909. Only 100 years worth of day granularity data are allowed to be fetched per request.\n",
            "Importing stock data:8\n",
            "Importing stock data:9\n",
            "Importing stock data:10\n",
            "Importing stock data:11\n",
            "Importing stock data:12\n",
            "Importing stock data:13\n",
            "Importing stock data:14\n",
            "Importing stock data:15\n",
            "Importing stock data:16\n",
            "Importing stock data:17\n",
            "Importing stock data:18\n",
            "Importing stock data:19\n",
            "Importing stock data:20\n",
            "The amount of stocks we successfully imported: 20\n"
          ],
          "name": "stdout"
        },
        {
          "output_type": "stream",
          "text": [
            "/usr/local/lib/python3.7/dist-packages/ta/trend.py:768: RuntimeWarning: invalid value encountered in double_scalars\n",
            "  dip[i] = 100 * (self._dip[i] / self._trs[i])\n",
            "/usr/local/lib/python3.7/dist-packages/ta/trend.py:772: RuntimeWarning: invalid value encountered in double_scalars\n",
            "  din[i] = 100 * (self._din[i] / self._trs[i])\n"
          ],
          "name": "stderr"
        },
        {
          "output_type": "stream",
          "text": [
            "Data for NVAX has been substantiated with technical features.\n"
          ],
          "name": "stdout"
        },
        {
          "output_type": "stream",
          "text": [
            "/usr/local/lib/python3.7/dist-packages/ta/trend.py:768: RuntimeWarning: invalid value encountered in double_scalars\n",
            "  dip[i] = 100 * (self._dip[i] / self._trs[i])\n",
            "/usr/local/lib/python3.7/dist-packages/ta/trend.py:772: RuntimeWarning: invalid value encountered in double_scalars\n",
            "  din[i] = 100 * (self._din[i] / self._trs[i])\n"
          ],
          "name": "stderr"
        },
        {
          "output_type": "stream",
          "text": [
            "Data for IMMP has been substantiated with technical features.\n"
          ],
          "name": "stdout"
        },
        {
          "output_type": "stream",
          "text": [
            "/usr/local/lib/python3.7/dist-packages/ta/trend.py:768: RuntimeWarning: invalid value encountered in double_scalars\n",
            "  dip[i] = 100 * (self._dip[i] / self._trs[i])\n",
            "/usr/local/lib/python3.7/dist-packages/ta/trend.py:772: RuntimeWarning: invalid value encountered in double_scalars\n",
            "  din[i] = 100 * (self._din[i] / self._trs[i])\n"
          ],
          "name": "stderr"
        },
        {
          "output_type": "stream",
          "text": [
            "Data for SAM has been substantiated with technical features.\n"
          ],
          "name": "stdout"
        },
        {
          "output_type": "stream",
          "text": [
            "/usr/local/lib/python3.7/dist-packages/ta/trend.py:768: RuntimeWarning: invalid value encountered in double_scalars\n",
            "  dip[i] = 100 * (self._dip[i] / self._trs[i])\n",
            "/usr/local/lib/python3.7/dist-packages/ta/trend.py:772: RuntimeWarning: invalid value encountered in double_scalars\n",
            "  din[i] = 100 * (self._din[i] / self._trs[i])\n"
          ],
          "name": "stderr"
        },
        {
          "output_type": "stream",
          "text": [
            "Data for BTC-CAD has been substantiated with technical features.\n"
          ],
          "name": "stdout"
        },
        {
          "output_type": "stream",
          "text": [
            "/usr/local/lib/python3.7/dist-packages/ta/trend.py:768: RuntimeWarning: invalid value encountered in double_scalars\n",
            "  dip[i] = 100 * (self._dip[i] / self._trs[i])\n",
            "/usr/local/lib/python3.7/dist-packages/ta/trend.py:772: RuntimeWarning: invalid value encountered in double_scalars\n",
            "  din[i] = 100 * (self._din[i] / self._trs[i])\n"
          ],
          "name": "stderr"
        },
        {
          "output_type": "stream",
          "text": [
            "Data for ECL has been substantiated with technical features.\n"
          ],
          "name": "stdout"
        },
        {
          "output_type": "stream",
          "text": [
            "/usr/local/lib/python3.7/dist-packages/ta/trend.py:768: RuntimeWarning: invalid value encountered in double_scalars\n",
            "  dip[i] = 100 * (self._dip[i] / self._trs[i])\n",
            "/usr/local/lib/python3.7/dist-packages/ta/trend.py:772: RuntimeWarning: invalid value encountered in double_scalars\n",
            "  din[i] = 100 * (self._din[i] / self._trs[i])\n"
          ],
          "name": "stderr"
        },
        {
          "output_type": "stream",
          "text": [
            "Data for RAD has been substantiated with technical features.\n",
            "Data for GDRX has been substantiated with technical features.\n"
          ],
          "name": "stdout"
        },
        {
          "output_type": "stream",
          "text": [
            "/usr/local/lib/python3.7/dist-packages/ta/trend.py:768: RuntimeWarning: invalid value encountered in double_scalars\n",
            "  dip[i] = 100 * (self._dip[i] / self._trs[i])\n",
            "/usr/local/lib/python3.7/dist-packages/ta/trend.py:772: RuntimeWarning: invalid value encountered in double_scalars\n",
            "  din[i] = 100 * (self._din[i] / self._trs[i])\n",
            "/usr/local/lib/python3.7/dist-packages/ta/trend.py:768: RuntimeWarning: invalid value encountered in double_scalars\n",
            "  dip[i] = 100 * (self._dip[i] / self._trs[i])\n",
            "/usr/local/lib/python3.7/dist-packages/ta/trend.py:772: RuntimeWarning: invalid value encountered in double_scalars\n",
            "  din[i] = 100 * (self._din[i] / self._trs[i])\n"
          ],
          "name": "stderr"
        },
        {
          "output_type": "stream",
          "text": [
            "Data for PRQR has been substantiated with technical features.\n"
          ],
          "name": "stdout"
        },
        {
          "output_type": "stream",
          "text": [
            "/usr/local/lib/python3.7/dist-packages/ta/trend.py:768: RuntimeWarning: invalid value encountered in double_scalars\n",
            "  dip[i] = 100 * (self._dip[i] / self._trs[i])\n",
            "/usr/local/lib/python3.7/dist-packages/ta/trend.py:772: RuntimeWarning: invalid value encountered in double_scalars\n",
            "  din[i] = 100 * (self._din[i] / self._trs[i])\n"
          ],
          "name": "stderr"
        },
        {
          "output_type": "stream",
          "text": [
            "Data for KOSS has been substantiated with technical features.\n"
          ],
          "name": "stdout"
        },
        {
          "output_type": "stream",
          "text": [
            "/usr/local/lib/python3.7/dist-packages/ta/trend.py:768: RuntimeWarning: invalid value encountered in double_scalars\n",
            "  dip[i] = 100 * (self._dip[i] / self._trs[i])\n",
            "/usr/local/lib/python3.7/dist-packages/ta/trend.py:772: RuntimeWarning: invalid value encountered in double_scalars\n",
            "  din[i] = 100 * (self._din[i] / self._trs[i])\n"
          ],
          "name": "stderr"
        },
        {
          "output_type": "stream",
          "text": [
            "Data for NKE has been substantiated with technical features.\n"
          ],
          "name": "stdout"
        },
        {
          "output_type": "stream",
          "text": [
            "/usr/local/lib/python3.7/dist-packages/ta/trend.py:768: RuntimeWarning: invalid value encountered in double_scalars\n",
            "  dip[i] = 100 * (self._dip[i] / self._trs[i])\n",
            "/usr/local/lib/python3.7/dist-packages/ta/trend.py:772: RuntimeWarning: invalid value encountered in double_scalars\n",
            "  din[i] = 100 * (self._din[i] / self._trs[i])\n"
          ],
          "name": "stderr"
        },
        {
          "output_type": "stream",
          "text": [
            "Data for AMC has been substantiated with technical features.\n",
            "Data for PLTR has been substantiated with technical features.\n"
          ],
          "name": "stdout"
        },
        {
          "output_type": "stream",
          "text": [
            "/usr/local/lib/python3.7/dist-packages/ta/trend.py:768: RuntimeWarning: invalid value encountered in double_scalars\n",
            "  dip[i] = 100 * (self._dip[i] / self._trs[i])\n",
            "/usr/local/lib/python3.7/dist-packages/ta/trend.py:772: RuntimeWarning: invalid value encountered in double_scalars\n",
            "  din[i] = 100 * (self._din[i] / self._trs[i])\n",
            "/usr/local/lib/python3.7/dist-packages/ta/trend.py:768: RuntimeWarning: invalid value encountered in double_scalars\n",
            "  dip[i] = 100 * (self._dip[i] / self._trs[i])\n",
            "/usr/local/lib/python3.7/dist-packages/ta/trend.py:772: RuntimeWarning: invalid value encountered in double_scalars\n",
            "  din[i] = 100 * (self._din[i] / self._trs[i])\n"
          ],
          "name": "stderr"
        },
        {
          "output_type": "stream",
          "text": [
            "Data for NFLX has been substantiated with technical features.\n"
          ],
          "name": "stdout"
        },
        {
          "output_type": "stream",
          "text": [
            "/usr/local/lib/python3.7/dist-packages/ta/trend.py:768: RuntimeWarning: invalid value encountered in double_scalars\n",
            "  dip[i] = 100 * (self._dip[i] / self._trs[i])\n",
            "/usr/local/lib/python3.7/dist-packages/ta/trend.py:772: RuntimeWarning: invalid value encountered in double_scalars\n",
            "  din[i] = 100 * (self._din[i] / self._trs[i])\n"
          ],
          "name": "stderr"
        },
        {
          "output_type": "stream",
          "text": [
            "Data for GME has been substantiated with technical features.\n"
          ],
          "name": "stdout"
        },
        {
          "output_type": "stream",
          "text": [
            "/usr/local/lib/python3.7/dist-packages/ta/trend.py:768: RuntimeWarning: invalid value encountered in double_scalars\n",
            "  dip[i] = 100 * (self._dip[i] / self._trs[i])\n",
            "/usr/local/lib/python3.7/dist-packages/ta/trend.py:772: RuntimeWarning: invalid value encountered in double_scalars\n",
            "  din[i] = 100 * (self._din[i] / self._trs[i])\n"
          ],
          "name": "stderr"
        },
        {
          "output_type": "stream",
          "text": [
            "Data for BTC-USD has been substantiated with technical features.\n"
          ],
          "name": "stdout"
        },
        {
          "output_type": "stream",
          "text": [
            "/usr/local/lib/python3.7/dist-packages/ta/trend.py:768: RuntimeWarning: invalid value encountered in double_scalars\n",
            "  dip[i] = 100 * (self._dip[i] / self._trs[i])\n",
            "/usr/local/lib/python3.7/dist-packages/ta/trend.py:772: RuntimeWarning: invalid value encountered in double_scalars\n",
            "  din[i] = 100 * (self._din[i] / self._trs[i])\n"
          ],
          "name": "stderr"
        },
        {
          "output_type": "stream",
          "text": [
            "Data for OI has been substantiated with technical features.\n"
          ],
          "name": "stdout"
        },
        {
          "output_type": "stream",
          "text": [
            "/usr/local/lib/python3.7/dist-packages/ta/trend.py:768: RuntimeWarning: invalid value encountered in double_scalars\n",
            "  dip[i] = 100 * (self._dip[i] / self._trs[i])\n",
            "/usr/local/lib/python3.7/dist-packages/ta/trend.py:772: RuntimeWarning: invalid value encountered in double_scalars\n",
            "  din[i] = 100 * (self._din[i] / self._trs[i])\n"
          ],
          "name": "stderr"
        },
        {
          "output_type": "stream",
          "text": [
            "Data for TLSS has been substantiated with technical features.\n"
          ],
          "name": "stdout"
        },
        {
          "output_type": "stream",
          "text": [
            "/usr/local/lib/python3.7/dist-packages/ta/trend.py:768: RuntimeWarning: invalid value encountered in double_scalars\n",
            "  dip[i] = 100 * (self._dip[i] / self._trs[i])\n",
            "/usr/local/lib/python3.7/dist-packages/ta/trend.py:772: RuntimeWarning: invalid value encountered in double_scalars\n",
            "  din[i] = 100 * (self._din[i] / self._trs[i])\n"
          ],
          "name": "stderr"
        },
        {
          "output_type": "stream",
          "text": [
            "Data for APOP has been substantiated with technical features.\n",
            "Model complete for NVAX\n",
            "Model complete for IMMP\n",
            "Model complete for SAM\n",
            "Model complete for BTC-CAD\n",
            "Model complete for ECL\n",
            "Model complete for RAD\n",
            "Model complete for PRQR\n",
            "Model complete for KOSS\n",
            "Model complete for NKE\n",
            "Model complete for AMC\n",
            "Model complete for NFLX\n",
            "Model complete for GME\n",
            "Model complete for BTC-USD\n",
            "Model complete for OI\n",
            "Model complete for TLSS\n",
            "Model complete for APOP\n",
            "log_models Finished\n",
            "Checking: BTC-CAD\n",
            "Checking: GDRX\n",
            "Checking: PLTR\n",
            "Portfolio Up to date\n",
            "Portfolio Up to date\n",
            "Portfolio Up to date\n",
            "Portfolio Up to date\n",
            "Portfolio Up to date\n",
            "Portfolio Up to date\n",
            "Portfolio Up to date\n",
            "The amount of stocks chosen to observe: 20\n",
            "Importing stock data:1\n",
            "Importing stock data:2\n",
            "Importing stock data:3\n",
            "Importing stock data:4\n",
            "Importing stock data:5\n",
            "- ARVL: 1d data not available for startTime=-2208988800 and endTime=1616701109. Only 100 years worth of day granularity data are allowed to be fetched per request.\n",
            "Importing stock data:6\n",
            "Importing stock data:7\n",
            "Importing stock data:8\n",
            "Importing stock data:9\n",
            "- VZIO: 1d data not available for startTime=-2208988800 and endTime=1616701118. Only 100 years worth of day granularity data are allowed to be fetched per request.\n",
            "Importing stock data:10\n",
            "Importing stock data:11\n",
            "Importing stock data:12\n",
            "Importing stock data:13\n",
            "Importing stock data:14\n",
            "Importing stock data:15\n",
            "Importing stock data:16\n",
            "Importing stock data:17\n",
            "Importing stock data:18\n",
            "Importing stock data:19\n",
            "Importing stock data:20\n",
            "The amount of stocks we successfully imported: 20\n"
          ],
          "name": "stdout"
        },
        {
          "output_type": "stream",
          "text": [
            "/usr/local/lib/python3.7/dist-packages/ta/trend.py:768: RuntimeWarning: invalid value encountered in double_scalars\n",
            "  dip[i] = 100 * (self._dip[i] / self._trs[i])\n",
            "/usr/local/lib/python3.7/dist-packages/ta/trend.py:772: RuntimeWarning: invalid value encountered in double_scalars\n",
            "  din[i] = 100 * (self._din[i] / self._trs[i])\n"
          ],
          "name": "stderr"
        },
        {
          "output_type": "stream",
          "text": [
            "Data for SQ has been substantiated with technical features.\n"
          ],
          "name": "stdout"
        },
        {
          "output_type": "stream",
          "text": [
            "/usr/local/lib/python3.7/dist-packages/ta/trend.py:768: RuntimeWarning: invalid value encountered in double_scalars\n",
            "  dip[i] = 100 * (self._dip[i] / self._trs[i])\n",
            "/usr/local/lib/python3.7/dist-packages/ta/trend.py:772: RuntimeWarning: invalid value encountered in double_scalars\n",
            "  din[i] = 100 * (self._din[i] / self._trs[i])\n"
          ],
          "name": "stderr"
        },
        {
          "output_type": "stream",
          "text": [
            "Data for NVAX has been substantiated with technical features.\n"
          ],
          "name": "stdout"
        },
        {
          "output_type": "stream",
          "text": [
            "/usr/local/lib/python3.7/dist-packages/ta/trend.py:768: RuntimeWarning: invalid value encountered in double_scalars\n",
            "  dip[i] = 100 * (self._dip[i] / self._trs[i])\n",
            "/usr/local/lib/python3.7/dist-packages/ta/trend.py:772: RuntimeWarning: invalid value encountered in double_scalars\n",
            "  din[i] = 100 * (self._din[i] / self._trs[i])\n"
          ],
          "name": "stderr"
        },
        {
          "output_type": "stream",
          "text": [
            "Data for NVDA has been substantiated with technical features.\n",
            "Data for AMWL has been substantiated with technical features.\n"
          ],
          "name": "stdout"
        },
        {
          "output_type": "stream",
          "text": [
            "/usr/local/lib/python3.7/dist-packages/ta/trend.py:768: RuntimeWarning: invalid value encountered in double_scalars\n",
            "  dip[i] = 100 * (self._dip[i] / self._trs[i])\n",
            "/usr/local/lib/python3.7/dist-packages/ta/trend.py:772: RuntimeWarning: invalid value encountered in double_scalars\n",
            "  din[i] = 100 * (self._din[i] / self._trs[i])\n",
            "/usr/local/lib/python3.7/dist-packages/ta/trend.py:768: RuntimeWarning: invalid value encountered in double_scalars\n",
            "  dip[i] = 100 * (self._dip[i] / self._trs[i])\n",
            "/usr/local/lib/python3.7/dist-packages/ta/trend.py:772: RuntimeWarning: invalid value encountered in double_scalars\n",
            "  din[i] = 100 * (self._din[i] / self._trs[i])\n"
          ],
          "name": "stderr"
        },
        {
          "output_type": "stream",
          "text": [
            "Data for IMMP has been substantiated with technical features.\n"
          ],
          "name": "stdout"
        },
        {
          "output_type": "stream",
          "text": [
            "/usr/local/lib/python3.7/dist-packages/ta/trend.py:768: RuntimeWarning: invalid value encountered in double_scalars\n",
            "  dip[i] = 100 * (self._dip[i] / self._trs[i])\n",
            "/usr/local/lib/python3.7/dist-packages/ta/trend.py:772: RuntimeWarning: invalid value encountered in double_scalars\n",
            "  din[i] = 100 * (self._din[i] / self._trs[i])\n"
          ],
          "name": "stderr"
        },
        {
          "output_type": "stream",
          "text": [
            "Data for SAM has been substantiated with technical features.\n"
          ],
          "name": "stdout"
        },
        {
          "output_type": "stream",
          "text": [
            "/usr/local/lib/python3.7/dist-packages/ta/trend.py:768: RuntimeWarning: invalid value encountered in double_scalars\n",
            "  dip[i] = 100 * (self._dip[i] / self._trs[i])\n",
            "/usr/local/lib/python3.7/dist-packages/ta/trend.py:772: RuntimeWarning: invalid value encountered in double_scalars\n",
            "  din[i] = 100 * (self._din[i] / self._trs[i])\n"
          ],
          "name": "stderr"
        },
        {
          "output_type": "stream",
          "text": [
            "Data for ECL has been substantiated with technical features.\n"
          ],
          "name": "stdout"
        },
        {
          "output_type": "stream",
          "text": [
            "/usr/local/lib/python3.7/dist-packages/ta/trend.py:768: RuntimeWarning: invalid value encountered in double_scalars\n",
            "  dip[i] = 100 * (self._dip[i] / self._trs[i])\n",
            "/usr/local/lib/python3.7/dist-packages/ta/trend.py:772: RuntimeWarning: invalid value encountered in double_scalars\n",
            "  din[i] = 100 * (self._din[i] / self._trs[i])\n"
          ],
          "name": "stderr"
        },
        {
          "output_type": "stream",
          "text": [
            "Data for RAD has been substantiated with technical features.\n"
          ],
          "name": "stdout"
        },
        {
          "output_type": "stream",
          "text": [
            "/usr/local/lib/python3.7/dist-packages/ta/trend.py:768: RuntimeWarning: invalid value encountered in double_scalars\n",
            "  dip[i] = 100 * (self._dip[i] / self._trs[i])\n",
            "/usr/local/lib/python3.7/dist-packages/ta/trend.py:772: RuntimeWarning: invalid value encountered in double_scalars\n",
            "  din[i] = 100 * (self._din[i] / self._trs[i])\n"
          ],
          "name": "stderr"
        },
        {
          "output_type": "stream",
          "text": [
            "Data for PRQR has been substantiated with technical features.\n"
          ],
          "name": "stdout"
        },
        {
          "output_type": "stream",
          "text": [
            "/usr/local/lib/python3.7/dist-packages/ta/trend.py:768: RuntimeWarning: invalid value encountered in double_scalars\n",
            "  dip[i] = 100 * (self._dip[i] / self._trs[i])\n",
            "/usr/local/lib/python3.7/dist-packages/ta/trend.py:772: RuntimeWarning: invalid value encountered in double_scalars\n",
            "  din[i] = 100 * (self._din[i] / self._trs[i])\n"
          ],
          "name": "stderr"
        },
        {
          "output_type": "stream",
          "text": [
            "Data for KOSS has been substantiated with technical features.\n"
          ],
          "name": "stdout"
        },
        {
          "output_type": "stream",
          "text": [
            "/usr/local/lib/python3.7/dist-packages/ta/trend.py:768: RuntimeWarning: invalid value encountered in double_scalars\n",
            "  dip[i] = 100 * (self._dip[i] / self._trs[i])\n",
            "/usr/local/lib/python3.7/dist-packages/ta/trend.py:772: RuntimeWarning: invalid value encountered in double_scalars\n",
            "  din[i] = 100 * (self._din[i] / self._trs[i])\n"
          ],
          "name": "stderr"
        },
        {
          "output_type": "stream",
          "text": [
            "Data for NKE has been substantiated with technical features.\n"
          ],
          "name": "stdout"
        },
        {
          "output_type": "stream",
          "text": [
            "/usr/local/lib/python3.7/dist-packages/ta/trend.py:768: RuntimeWarning: invalid value encountered in double_scalars\n",
            "  dip[i] = 100 * (self._dip[i] / self._trs[i])\n",
            "/usr/local/lib/python3.7/dist-packages/ta/trend.py:772: RuntimeWarning: invalid value encountered in double_scalars\n",
            "  din[i] = 100 * (self._din[i] / self._trs[i])\n"
          ],
          "name": "stderr"
        },
        {
          "output_type": "stream",
          "text": [
            "Data for BABA has been substantiated with technical features.\n"
          ],
          "name": "stdout"
        },
        {
          "output_type": "stream",
          "text": [
            "/usr/local/lib/python3.7/dist-packages/ta/trend.py:768: RuntimeWarning: invalid value encountered in double_scalars\n",
            "  dip[i] = 100 * (self._dip[i] / self._trs[i])\n",
            "/usr/local/lib/python3.7/dist-packages/ta/trend.py:772: RuntimeWarning: invalid value encountered in double_scalars\n",
            "  din[i] = 100 * (self._din[i] / self._trs[i])\n"
          ],
          "name": "stderr"
        },
        {
          "output_type": "stream",
          "text": [
            "Data for AMC has been substantiated with technical features.\n"
          ],
          "name": "stdout"
        },
        {
          "output_type": "stream",
          "text": [
            "/usr/local/lib/python3.7/dist-packages/ta/trend.py:768: RuntimeWarning: invalid value encountered in double_scalars\n",
            "  dip[i] = 100 * (self._dip[i] / self._trs[i])\n",
            "/usr/local/lib/python3.7/dist-packages/ta/trend.py:772: RuntimeWarning: invalid value encountered in double_scalars\n",
            "  din[i] = 100 * (self._din[i] / self._trs[i])\n"
          ],
          "name": "stderr"
        },
        {
          "output_type": "stream",
          "text": [
            "Data for NFLX has been substantiated with technical features.\n"
          ],
          "name": "stdout"
        },
        {
          "output_type": "stream",
          "text": [
            "/usr/local/lib/python3.7/dist-packages/ta/trend.py:768: RuntimeWarning: invalid value encountered in double_scalars\n",
            "  dip[i] = 100 * (self._dip[i] / self._trs[i])\n",
            "/usr/local/lib/python3.7/dist-packages/ta/trend.py:772: RuntimeWarning: invalid value encountered in double_scalars\n",
            "  din[i] = 100 * (self._din[i] / self._trs[i])\n"
          ],
          "name": "stderr"
        },
        {
          "output_type": "stream",
          "text": [
            "Data for GME has been substantiated with technical features.\n"
          ],
          "name": "stdout"
        },
        {
          "output_type": "stream",
          "text": [
            "/usr/local/lib/python3.7/dist-packages/ta/trend.py:768: RuntimeWarning: invalid value encountered in double_scalars\n",
            "  dip[i] = 100 * (self._dip[i] / self._trs[i])\n",
            "/usr/local/lib/python3.7/dist-packages/ta/trend.py:772: RuntimeWarning: invalid value encountered in double_scalars\n",
            "  din[i] = 100 * (self._din[i] / self._trs[i])\n"
          ],
          "name": "stderr"
        },
        {
          "output_type": "stream",
          "text": [
            "Data for BTC-USD has been substantiated with technical features.\n"
          ],
          "name": "stdout"
        },
        {
          "output_type": "stream",
          "text": [
            "/usr/local/lib/python3.7/dist-packages/ta/trend.py:768: RuntimeWarning: invalid value encountered in double_scalars\n",
            "  dip[i] = 100 * (self._dip[i] / self._trs[i])\n",
            "/usr/local/lib/python3.7/dist-packages/ta/trend.py:772: RuntimeWarning: invalid value encountered in double_scalars\n",
            "  din[i] = 100 * (self._din[i] / self._trs[i])\n"
          ],
          "name": "stderr"
        },
        {
          "output_type": "stream",
          "text": [
            "Data for TLSS has been substantiated with technical features.\n"
          ],
          "name": "stdout"
        },
        {
          "output_type": "stream",
          "text": [
            "/usr/local/lib/python3.7/dist-packages/ta/trend.py:768: RuntimeWarning: invalid value encountered in double_scalars\n",
            "  dip[i] = 100 * (self._dip[i] / self._trs[i])\n",
            "/usr/local/lib/python3.7/dist-packages/ta/trend.py:772: RuntimeWarning: invalid value encountered in double_scalars\n",
            "  din[i] = 100 * (self._din[i] / self._trs[i])\n"
          ],
          "name": "stderr"
        },
        {
          "output_type": "stream",
          "text": [
            "Data for APOP has been substantiated with technical features.\n",
            "Model complete for SQ\n",
            "Model complete for NVAX\n",
            "Model complete for NVDA\n",
            "Model complete for IMMP\n",
            "Model complete for SAM\n",
            "Model complete for ECL\n",
            "Model complete for RAD\n",
            "Model complete for PRQR\n",
            "Model complete for KOSS\n",
            "Model complete for NKE\n",
            "Model complete for BABA\n",
            "Model complete for AMC\n",
            "Model complete for NFLX\n",
            "Model complete for GME\n",
            "Model complete for BTC-USD\n",
            "Model complete for TLSS\n",
            "Model complete for APOP\n",
            "log_models Finished\n",
            "Portfolio Up to date\n",
            "Portfolio Up to date\n",
            "Portfolio Up to date\n",
            "Portfolio Up to date\n",
            "Portfolio Up to date\n",
            "Portfolio Up to date\n",
            "Portfolio Up to date\n",
            "The amount of stocks chosen to observe: 20\n",
            "Importing stock data:1\n",
            "Importing stock data:2\n",
            "Importing stock data:3\n",
            "Importing stock data:4\n",
            "Importing stock data:5\n",
            "- ARVL: 1d data not available for startTime=-2208988800 and endTime=1616703312. Only 100 years worth of day granularity data are allowed to be fetched per request.\n",
            "Importing stock data:6\n",
            "Importing stock data:7\n",
            "Importing stock data:8\n",
            "Importing stock data:9\n",
            "- VZIO: 1d data not available for startTime=-2208988800 and endTime=1616703321. Only 100 years worth of day granularity data are allowed to be fetched per request.\n",
            "Importing stock data:10\n",
            "Importing stock data:11\n",
            "Importing stock data:12\n",
            "Importing stock data:13\n",
            "Importing stock data:14\n",
            "Importing stock data:15\n",
            "Importing stock data:16\n",
            "Importing stock data:17\n",
            "Importing stock data:18\n",
            "Importing stock data:19\n",
            "Importing stock data:20\n",
            "The amount of stocks we successfully imported: 20\n"
          ],
          "name": "stdout"
        },
        {
          "output_type": "stream",
          "text": [
            "/usr/local/lib/python3.7/dist-packages/ta/trend.py:768: RuntimeWarning: invalid value encountered in double_scalars\n",
            "  dip[i] = 100 * (self._dip[i] / self._trs[i])\n",
            "/usr/local/lib/python3.7/dist-packages/ta/trend.py:772: RuntimeWarning: invalid value encountered in double_scalars\n",
            "  din[i] = 100 * (self._din[i] / self._trs[i])\n"
          ],
          "name": "stderr"
        },
        {
          "output_type": "stream",
          "text": [
            "Data for SQ has been substantiated with technical features.\n"
          ],
          "name": "stdout"
        },
        {
          "output_type": "stream",
          "text": [
            "/usr/local/lib/python3.7/dist-packages/ta/trend.py:768: RuntimeWarning: invalid value encountered in double_scalars\n",
            "  dip[i] = 100 * (self._dip[i] / self._trs[i])\n",
            "/usr/local/lib/python3.7/dist-packages/ta/trend.py:772: RuntimeWarning: invalid value encountered in double_scalars\n",
            "  din[i] = 100 * (self._din[i] / self._trs[i])\n"
          ],
          "name": "stderr"
        },
        {
          "output_type": "stream",
          "text": [
            "Data for NVAX has been substantiated with technical features.\n"
          ],
          "name": "stdout"
        },
        {
          "output_type": "stream",
          "text": [
            "/usr/local/lib/python3.7/dist-packages/ta/trend.py:768: RuntimeWarning: invalid value encountered in double_scalars\n",
            "  dip[i] = 100 * (self._dip[i] / self._trs[i])\n",
            "/usr/local/lib/python3.7/dist-packages/ta/trend.py:772: RuntimeWarning: invalid value encountered in double_scalars\n",
            "  din[i] = 100 * (self._din[i] / self._trs[i])\n"
          ],
          "name": "stderr"
        },
        {
          "output_type": "stream",
          "text": [
            "Data for NVDA has been substantiated with technical features.\n",
            "Data for AMWL has been substantiated with technical features.\n"
          ],
          "name": "stdout"
        },
        {
          "output_type": "stream",
          "text": [
            "/usr/local/lib/python3.7/dist-packages/ta/trend.py:768: RuntimeWarning: invalid value encountered in double_scalars\n",
            "  dip[i] = 100 * (self._dip[i] / self._trs[i])\n",
            "/usr/local/lib/python3.7/dist-packages/ta/trend.py:772: RuntimeWarning: invalid value encountered in double_scalars\n",
            "  din[i] = 100 * (self._din[i] / self._trs[i])\n",
            "/usr/local/lib/python3.7/dist-packages/ta/trend.py:768: RuntimeWarning: invalid value encountered in double_scalars\n",
            "  dip[i] = 100 * (self._dip[i] / self._trs[i])\n",
            "/usr/local/lib/python3.7/dist-packages/ta/trend.py:772: RuntimeWarning: invalid value encountered in double_scalars\n",
            "  din[i] = 100 * (self._din[i] / self._trs[i])\n"
          ],
          "name": "stderr"
        },
        {
          "output_type": "stream",
          "text": [
            "Data for IMMP has been substantiated with technical features.\n"
          ],
          "name": "stdout"
        },
        {
          "output_type": "stream",
          "text": [
            "/usr/local/lib/python3.7/dist-packages/ta/trend.py:768: RuntimeWarning: invalid value encountered in double_scalars\n",
            "  dip[i] = 100 * (self._dip[i] / self._trs[i])\n",
            "/usr/local/lib/python3.7/dist-packages/ta/trend.py:772: RuntimeWarning: invalid value encountered in double_scalars\n",
            "  din[i] = 100 * (self._din[i] / self._trs[i])\n"
          ],
          "name": "stderr"
        },
        {
          "output_type": "stream",
          "text": [
            "Data for SAM has been substantiated with technical features.\n"
          ],
          "name": "stdout"
        },
        {
          "output_type": "stream",
          "text": [
            "/usr/local/lib/python3.7/dist-packages/ta/trend.py:768: RuntimeWarning: invalid value encountered in double_scalars\n",
            "  dip[i] = 100 * (self._dip[i] / self._trs[i])\n",
            "/usr/local/lib/python3.7/dist-packages/ta/trend.py:772: RuntimeWarning: invalid value encountered in double_scalars\n",
            "  din[i] = 100 * (self._din[i] / self._trs[i])\n"
          ],
          "name": "stderr"
        },
        {
          "output_type": "stream",
          "text": [
            "Data for ECL has been substantiated with technical features.\n"
          ],
          "name": "stdout"
        },
        {
          "output_type": "stream",
          "text": [
            "/usr/local/lib/python3.7/dist-packages/ta/trend.py:768: RuntimeWarning: invalid value encountered in double_scalars\n",
            "  dip[i] = 100 * (self._dip[i] / self._trs[i])\n",
            "/usr/local/lib/python3.7/dist-packages/ta/trend.py:772: RuntimeWarning: invalid value encountered in double_scalars\n",
            "  din[i] = 100 * (self._din[i] / self._trs[i])\n"
          ],
          "name": "stderr"
        },
        {
          "output_type": "stream",
          "text": [
            "Data for RAD has been substantiated with technical features.\n"
          ],
          "name": "stdout"
        },
        {
          "output_type": "stream",
          "text": [
            "/usr/local/lib/python3.7/dist-packages/ta/trend.py:768: RuntimeWarning: invalid value encountered in double_scalars\n",
            "  dip[i] = 100 * (self._dip[i] / self._trs[i])\n",
            "/usr/local/lib/python3.7/dist-packages/ta/trend.py:772: RuntimeWarning: invalid value encountered in double_scalars\n",
            "  din[i] = 100 * (self._din[i] / self._trs[i])\n"
          ],
          "name": "stderr"
        },
        {
          "output_type": "stream",
          "text": [
            "Data for PRQR has been substantiated with technical features.\n"
          ],
          "name": "stdout"
        },
        {
          "output_type": "stream",
          "text": [
            "/usr/local/lib/python3.7/dist-packages/ta/trend.py:768: RuntimeWarning: invalid value encountered in double_scalars\n",
            "  dip[i] = 100 * (self._dip[i] / self._trs[i])\n",
            "/usr/local/lib/python3.7/dist-packages/ta/trend.py:772: RuntimeWarning: invalid value encountered in double_scalars\n",
            "  din[i] = 100 * (self._din[i] / self._trs[i])\n"
          ],
          "name": "stderr"
        },
        {
          "output_type": "stream",
          "text": [
            "Data for KOSS has been substantiated with technical features.\n"
          ],
          "name": "stdout"
        },
        {
          "output_type": "stream",
          "text": [
            "/usr/local/lib/python3.7/dist-packages/ta/trend.py:768: RuntimeWarning: invalid value encountered in double_scalars\n",
            "  dip[i] = 100 * (self._dip[i] / self._trs[i])\n",
            "/usr/local/lib/python3.7/dist-packages/ta/trend.py:772: RuntimeWarning: invalid value encountered in double_scalars\n",
            "  din[i] = 100 * (self._din[i] / self._trs[i])\n"
          ],
          "name": "stderr"
        },
        {
          "output_type": "stream",
          "text": [
            "Data for NKE has been substantiated with technical features.\n"
          ],
          "name": "stdout"
        },
        {
          "output_type": "stream",
          "text": [
            "/usr/local/lib/python3.7/dist-packages/ta/trend.py:768: RuntimeWarning: invalid value encountered in double_scalars\n",
            "  dip[i] = 100 * (self._dip[i] / self._trs[i])\n",
            "/usr/local/lib/python3.7/dist-packages/ta/trend.py:772: RuntimeWarning: invalid value encountered in double_scalars\n",
            "  din[i] = 100 * (self._din[i] / self._trs[i])\n"
          ],
          "name": "stderr"
        },
        {
          "output_type": "stream",
          "text": [
            "Data for BABA has been substantiated with technical features.\n"
          ],
          "name": "stdout"
        },
        {
          "output_type": "stream",
          "text": [
            "/usr/local/lib/python3.7/dist-packages/ta/trend.py:768: RuntimeWarning: invalid value encountered in double_scalars\n",
            "  dip[i] = 100 * (self._dip[i] / self._trs[i])\n",
            "/usr/local/lib/python3.7/dist-packages/ta/trend.py:772: RuntimeWarning: invalid value encountered in double_scalars\n",
            "  din[i] = 100 * (self._din[i] / self._trs[i])\n"
          ],
          "name": "stderr"
        },
        {
          "output_type": "stream",
          "text": [
            "Data for AMC has been substantiated with technical features.\n"
          ],
          "name": "stdout"
        },
        {
          "output_type": "stream",
          "text": [
            "/usr/local/lib/python3.7/dist-packages/ta/trend.py:768: RuntimeWarning: invalid value encountered in double_scalars\n",
            "  dip[i] = 100 * (self._dip[i] / self._trs[i])\n",
            "/usr/local/lib/python3.7/dist-packages/ta/trend.py:772: RuntimeWarning: invalid value encountered in double_scalars\n",
            "  din[i] = 100 * (self._din[i] / self._trs[i])\n"
          ],
          "name": "stderr"
        },
        {
          "output_type": "stream",
          "text": [
            "Data for NFLX has been substantiated with technical features.\n"
          ],
          "name": "stdout"
        },
        {
          "output_type": "stream",
          "text": [
            "/usr/local/lib/python3.7/dist-packages/ta/trend.py:768: RuntimeWarning: invalid value encountered in double_scalars\n",
            "  dip[i] = 100 * (self._dip[i] / self._trs[i])\n",
            "/usr/local/lib/python3.7/dist-packages/ta/trend.py:772: RuntimeWarning: invalid value encountered in double_scalars\n",
            "  din[i] = 100 * (self._din[i] / self._trs[i])\n"
          ],
          "name": "stderr"
        },
        {
          "output_type": "stream",
          "text": [
            "Data for GME has been substantiated with technical features.\n"
          ],
          "name": "stdout"
        },
        {
          "output_type": "stream",
          "text": [
            "/usr/local/lib/python3.7/dist-packages/ta/trend.py:768: RuntimeWarning: invalid value encountered in double_scalars\n",
            "  dip[i] = 100 * (self._dip[i] / self._trs[i])\n",
            "/usr/local/lib/python3.7/dist-packages/ta/trend.py:772: RuntimeWarning: invalid value encountered in double_scalars\n",
            "  din[i] = 100 * (self._din[i] / self._trs[i])\n"
          ],
          "name": "stderr"
        },
        {
          "output_type": "stream",
          "text": [
            "Data for BTC-USD has been substantiated with technical features.\n"
          ],
          "name": "stdout"
        },
        {
          "output_type": "stream",
          "text": [
            "/usr/local/lib/python3.7/dist-packages/ta/trend.py:768: RuntimeWarning: invalid value encountered in double_scalars\n",
            "  dip[i] = 100 * (self._dip[i] / self._trs[i])\n",
            "/usr/local/lib/python3.7/dist-packages/ta/trend.py:772: RuntimeWarning: invalid value encountered in double_scalars\n",
            "  din[i] = 100 * (self._din[i] / self._trs[i])\n"
          ],
          "name": "stderr"
        },
        {
          "output_type": "stream",
          "text": [
            "Data for TLSS has been substantiated with technical features.\n"
          ],
          "name": "stdout"
        },
        {
          "output_type": "stream",
          "text": [
            "/usr/local/lib/python3.7/dist-packages/ta/trend.py:768: RuntimeWarning: invalid value encountered in double_scalars\n",
            "  dip[i] = 100 * (self._dip[i] / self._trs[i])\n",
            "/usr/local/lib/python3.7/dist-packages/ta/trend.py:772: RuntimeWarning: invalid value encountered in double_scalars\n",
            "  din[i] = 100 * (self._din[i] / self._trs[i])\n"
          ],
          "name": "stderr"
        },
        {
          "output_type": "stream",
          "text": [
            "Data for APOP has been substantiated with technical features.\n",
            "Model complete for SQ\n",
            "Model complete for NVAX\n",
            "Model complete for NVDA\n",
            "Model complete for IMMP\n",
            "Model complete for SAM\n",
            "Model complete for ECL\n",
            "Model complete for RAD\n",
            "Model complete for PRQR\n",
            "Model complete for KOSS\n",
            "Model complete for NKE\n",
            "Model complete for BABA\n",
            "Model complete for AMC\n",
            "Model complete for NFLX\n",
            "Model complete for GME\n",
            "Model complete for BTC-USD\n",
            "Model complete for TLSS\n",
            "Model complete for APOP\n",
            "log_models Finished\n",
            "Portfolio Up to date\n",
            "Portfolio Up to date\n"
          ],
          "name": "stdout"
        },
        {
          "output_type": "error",
          "ename": "KeyboardInterrupt",
          "evalue": "ignored",
          "traceback": [
            "\u001b[0;31m---------------------------------------------------------------------------\u001b[0m",
            "\u001b[0;31mKeyboardInterrupt\u001b[0m                         Traceback (most recent call last)",
            "\u001b[0;32m<ipython-input-8-24126d88addf>\u001b[0m in \u001b[0;36m<module>\u001b[0;34m()\u001b[0m\n\u001b[1;32m    562\u001b[0m     \u001b[0mloops\u001b[0m \u001b[0;34m+=\u001b[0m \u001b[0;36m1\u001b[0m\u001b[0;34m\u001b[0m\u001b[0;34m\u001b[0m\u001b[0m\n\u001b[1;32m    563\u001b[0m \u001b[0;34m\u001b[0m\u001b[0m\n\u001b[0;32m--> 564\u001b[0;31m   \u001b[0mtime\u001b[0m\u001b[0;34m.\u001b[0m\u001b[0msleep\u001b[0m\u001b[0;34m(\u001b[0m\u001b[0;36m300\u001b[0m\u001b[0;34m)\u001b[0m\u001b[0;34m\u001b[0m\u001b[0;34m\u001b[0m\u001b[0m\n\u001b[0m\u001b[1;32m    565\u001b[0m \u001b[0;34m\u001b[0m\u001b[0m\n\u001b[1;32m    566\u001b[0m \u001b[0;34m\u001b[0m\u001b[0m\n",
            "\u001b[0;31mKeyboardInterrupt\u001b[0m: "
          ]
        }
      ]
    }
  ]
}