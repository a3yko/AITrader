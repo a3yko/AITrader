{
  "nbformat": 4,
  "nbformat_minor": 0,
  "metadata": {
    "colab": {
      "name": "Machine Learning Project.ipynb",
      "provenance": [],
      "collapsed_sections": [],
      "toc_visible": true,
      "include_colab_link": true
    },
    "kernelspec": {
      "name": "python3",
      "display_name": "Python 3"
    }
  },
  "cells": [
    {
      "cell_type": "markdown",
      "metadata": {
        "id": "view-in-github",
        "colab_type": "text"
      },
      "source": [
        "<a href=\"https://colab.research.google.com/github/a3yko/AITrader/blob/main/AI_Trader.ipynb\" target=\"_parent\"><img src=\"https://colab.research.google.com/assets/colab-badge.svg\" alt=\"Open In Colab\"/></a>"
      ]
    },
    {
      "cell_type": "markdown",
      "metadata": {
        "id": "CkeuBnrbawfS"
      },
      "source": [
        "# Setup Code for VM related items\r\n",
        "## !!!!When Saving, please ping revision so its saved in revision history!!!\r\n",
        "Probs need to run anything under this section before code\r\n"
      ]
    },
    {
      "cell_type": "code",
      "metadata": {
        "id": "5srqQmCqXYhz",
        "colab": {
          "base_uri": "https://localhost:8080/"
        },
        "outputId": "2fde9a65-600c-44dd-e1c4-3b9f96e15352"
      },
      "source": [
        "!pip install alpaca-trade-api"
      ],
      "execution_count": null,
      "outputs": [
        {
          "output_type": "stream",
          "text": [
            "Requirement already satisfied: alpaca-trade-api in /usr/local/lib/python3.6/dist-packages (0.52.0)\n",
            "Requirement already satisfied: websocket-client<1,>=0.56.0 in /usr/local/lib/python3.6/dist-packages (from alpaca-trade-api) (0.57.0)\n",
            "Requirement already satisfied: urllib3<2,>1.24 in /usr/local/lib/python3.6/dist-packages (from alpaca-trade-api) (1.24.3)\n",
            "Requirement already satisfied: websockets<9,>=8.0 in /usr/local/lib/python3.6/dist-packages (from alpaca-trade-api) (8.1)\n",
            "Requirement already satisfied: numpy in /usr/local/lib/python3.6/dist-packages (from alpaca-trade-api) (1.19.5)\n",
            "Requirement already satisfied: requests<3,>2 in /usr/local/lib/python3.6/dist-packages (from alpaca-trade-api) (2.23.0)\n",
            "Requirement already satisfied: pandas in /usr/local/lib/python3.6/dist-packages (from alpaca-trade-api) (1.1.5)\n",
            "Requirement already satisfied: six in /usr/local/lib/python3.6/dist-packages (from websocket-client<1,>=0.56.0->alpaca-trade-api) (1.15.0)\n",
            "Requirement already satisfied: idna<3,>=2.5 in /usr/local/lib/python3.6/dist-packages (from requests<3,>2->alpaca-trade-api) (2.10)\n",
            "Requirement already satisfied: chardet<4,>=3.0.2 in /usr/local/lib/python3.6/dist-packages (from requests<3,>2->alpaca-trade-api) (3.0.4)\n",
            "Requirement already satisfied: certifi>=2017.4.17 in /usr/local/lib/python3.6/dist-packages (from requests<3,>2->alpaca-trade-api) (2020.12.5)\n",
            "Requirement already satisfied: python-dateutil>=2.7.3 in /usr/local/lib/python3.6/dist-packages (from pandas->alpaca-trade-api) (2.8.1)\n",
            "Requirement already satisfied: pytz>=2017.2 in /usr/local/lib/python3.6/dist-packages (from pandas->alpaca-trade-api) (2018.9)\n"
          ],
          "name": "stdout"
        }
      ]
    },
    {
      "cell_type": "markdown",
      "metadata": {
        "id": "iV23aQ2LfHIA"
      },
      "source": [
        "Pandas Technical Analysis (Pandas TA) is an easy to use library that leverages the Pandas library with more than 120 Indicators and Utility functions. \r\n",
        "\r\n",
        "INFO HERE : https://github.com/twopirllc/pandas-ta#installation\r\n",
        "\r\n",
        "USEFUL EXAMPLE: https://github.com/twopirllc/pandas-ta/blob/master/examples/AIExample.ipynb"
      ]
    },
    {
      "cell_type": "code",
      "metadata": {
        "id": "TRojhAcGeQtq",
        "colab": {
          "base_uri": "https://localhost:8080/"
        },
        "outputId": "d41b4669-0945-4132-cadf-b92d23294598"
      },
      "source": [
        "!pip install --upgrade ta"
      ],
      "execution_count": null,
      "outputs": [
        {
          "output_type": "stream",
          "text": [
            "Requirement already up-to-date: ta in /usr/local/lib/python3.6/dist-packages (0.7.0)\n",
            "Requirement already satisfied, skipping upgrade: pandas in /usr/local/lib/python3.6/dist-packages (from ta) (1.1.5)\n",
            "Requirement already satisfied, skipping upgrade: numpy in /usr/local/lib/python3.6/dist-packages (from ta) (1.19.5)\n",
            "Requirement already satisfied, skipping upgrade: pytz>=2017.2 in /usr/local/lib/python3.6/dist-packages (from pandas->ta) (2018.9)\n",
            "Requirement already satisfied, skipping upgrade: python-dateutil>=2.7.3 in /usr/local/lib/python3.6/dist-packages (from pandas->ta) (2.8.1)\n",
            "Requirement already satisfied, skipping upgrade: six>=1.5 in /usr/local/lib/python3.6/dist-packages (from python-dateutil>=2.7.3->pandas->ta) (1.15.0)\n"
          ],
          "name": "stdout"
        }
      ]
    },
    {
      "cell_type": "markdown",
      "metadata": {
        "id": "Yfr8v41nXUYz"
      },
      "source": [
        "#Code\r\n",
        "code cells are unfortunately not linked together and a such all code for program has to go on one cell\r\n",
        "\r\n",
        "Secret : Y01uwQ4EFeZQzanLj1UVs7NqyCAHvbwo6UyrxqFw\r\n",
        "\r\n",
        "Key : PK2K1WCVGJBQ0T4BKDIW"
      ]
    },
    {
      "cell_type": "code",
      "metadata": {
        "id": "TkZLrYGpxbb9",
        "colab": {
          "base_uri": "https://localhost:8080/"
        },
        "outputId": "685d9df8-d496-4702-fac2-2f235c510531"
      },
      "source": [
        "import alpaca_trade_api as alpacaapi\r\n",
        "import pandas as pd\r\n",
        "from ta import add_all_ta_features\r\n",
        "from ta.utils import dropna\r\n",
        "from ta.momentum import RSIIndicator\r\n",
        "from ta.trend import MACD \r\n",
        "from ta.momentum import StochasticOscillator\r\n",
        "from ta.volume import OnBalanceVolumeIndicator\r\n",
        "import datetime\r\n",
        "\r\n",
        "\r\n",
        "api = alpacaapi.REST(\"PK2K1WCVGJBQ0T4BKDIW\", \"Y01uwQ4EFeZQzanLj1UVs7NqyCAHvbwo6UyrxqFw\", \"https://paper-api.alpaca.markets\")\r\n",
        "\r\n",
        "################\r\n",
        "# getStockData #\r\n",
        "################\r\n",
        "\r\n",
        "# https://alpaca.markets/docs/api-documentation/api-v2/market-data/bars/\r\n",
        "# Check the above link for specific usage if you need to use it in your function\r\n",
        "def getStockData(tick, length, frame):\r\n",
        "  barset = api.get_barset(tick, frame , limit=length).df\r\n",
        "  return barset\r\n",
        "\r\n",
        "#Example use\r\n",
        "# This will get the info for Tesla for the last 100 minutes\r\n",
        "# getStockData(\"TSLA\", 100, \"minute\")\r\n",
        "\r\n",
        "\r\n",
        "#####################\r\n",
        "# getStockDataMulti #\r\n",
        "#####################\r\n",
        "\r\n",
        "def getStockDataMulti(ticks, length, frame):\r\n",
        "  barsets = []\r\n",
        "  for tick in ticks:\r\n",
        "    barset = api.get_barset(tick, frame , limit=length)\r\n",
        "    tick_bars = barset[tick]\r\n",
        "    barsets.append({ tick: tick_bars })\r\n",
        "  return barsets\r\n",
        "\r\n",
        "# Example usage\r\n",
        "stocks = [\"TSLA\", \"AAPL\", \"SNAP\"]\r\n",
        "#data = getStockDataMulti(stocks, 5, \"minute\")\r\n",
        "#print(data)\r\n",
        "\r\n",
        "#Collin\r\n",
        "\r\n",
        "# A sell limit is submitted as a gtc(Good 'Til Cancelled) time in force which \r\n",
        "# keeps the sell limit order open until it is fulfilled or cancelled.\r\n",
        "# You must pass in the current price of the tick as the third argument when the\r\n",
        "# sell limit is placed. This is so the 10% price increase can be calculated.\r\n",
        "def sellLimit(tick, quantity, current_price):\r\n",
        "    try:\r\n",
        "        api.submit_order(\r\n",
        "            symbol=symbol,\r\n",
        "            qty=quantity,\r\n",
        "            side='sell',\r\n",
        "            type='limit',\r\n",
        "            time_in_force='gtc',\r\n",
        "            limit_price = current_price * 1.1\r\n",
        "        )\r\n",
        "    # if an excpetion is thrown, prints exception message and returns 0 to \r\n",
        "    # indicate a failed sell limit placement\r\n",
        "    except Exception as e:\r\n",
        "        print(e)\r\n",
        "        return 0\r\n",
        "\r\n",
        "    # sellLimit function returns 1 if the order is placed succesfully\r\n",
        "    else:\r\n",
        "        return 1\r\n",
        "        \r\n",
        "# Sample use of sell limit function\r\n",
        "#result = sellLimit('AAPL', 1, 445)\r\n",
        "#print(\"Result of sell limit placement is 0 for fail, 1 for success: \", result)\r\n",
        "\r\n",
        "\r\n",
        "\r\n",
        "\r\n",
        "\r\n",
        "\r\n",
        "\r\n",
        "\r\n",
        "#Ali\r\n",
        "\r\n",
        "def sellStocks(stockName, quantity, sellType, ToF):\r\n",
        "  return api.submit_order(\r\n",
        "      symbol=stockName,\r\n",
        "      qty=quantity,\r\n",
        "      side='sell',\r\n",
        "      type=sellType, # market, limit, stop, stop_limit, or trailing_stop\r\n",
        "      time_in_force=ToF #day, gtc, opg, cls, ioc, fok.\r\n",
        "  )\r\n",
        "\r\n",
        "# Example usage\r\n",
        "stockName = 'AAPL'\r\n",
        "quantity = 5\r\n",
        "sellType = 'market'\r\n",
        "ToF = 'gtc'\r\n",
        "#stockOrder = sellStocks(stockName, quantity, sellType, ToF)\r\n",
        "\r\n",
        "#print(stockOrder)\r\n",
        "\r\n",
        "\r\n",
        "\r\n",
        "\r\n",
        "\r\n",
        "\r\n",
        "\r\n",
        "\r\n",
        "\r\n",
        "\r\n",
        "#Ben\r\n",
        "\r\n",
        "#####################\r\n",
        "#     buyStocks     #\r\n",
        "#####################\r\n",
        "def buyStocks(stockName, quantity, buyType, ToF):\r\n",
        "  return api.submit_order(\r\n",
        "      symbol=stockName,\r\n",
        "      qty=quantity,\r\n",
        "      side='buy',\r\n",
        "      type=buyType, # market, limit, stop, stop_limit, or trailing_stop\r\n",
        "      time_in_force=ToF #day, gtc, opg, cls, ioc, fok.\r\n",
        "  )\r\n",
        "\r\n",
        "# Example usage\r\n",
        "stockName = 'AAPL'\r\n",
        "quantity = 5\r\n",
        "buyType = 'market'\r\n",
        "ToF = 'gtc'\r\n",
        "stockOrder = buyStocks(stockName, quantity, buyType, ToF)\r\n",
        "\r\n",
        "#print(stockOrder)\r\n",
        "\r\n",
        "\r\n",
        "\r\n",
        "\r\n",
        "\r\n",
        "\r\n",
        "\r\n",
        "\r\n",
        "#Brian\r\n",
        "\r\n",
        "\r\n",
        "\r\n",
        "\r\n",
        "\r\n",
        "\r\n",
        "\r\n",
        "\r\n",
        "\r\n",
        "\r\n",
        "\r\n",
        "\r\n",
        "\r\n",
        "\r\n",
        "\r\n",
        "\r\n",
        "###########\r\n",
        "# ML CODE #\r\n",
        "###########\r\n",
        "df = getStockData(\"TSLA\", 100, \"day\")\r\n",
        "\r\n",
        "df = dropna(df)\r\n",
        "\r\n",
        "# Initialize Bollinger Bands Indicator\r\n",
        "rsi = RSIIndicator(close=df[\"TSLA\"][\"close\"], window=20, fillna=False)\r\n",
        "macd = MACD(close=df[\"TSLA\"][\"close\"], window_slow=20, window_fast = 16, window_sign= 7, fillna = False)\r\n",
        "stoch = StochasticOscillator(high=df[\"TSLA\"][\"high\"],low=df[\"TSLA\"][\"low\"],close=df[\"TSLA\"][\"close\"], window=14, smooth_window=3, fillna=False)\r\n",
        "onvol = OnBalanceVolumeIndicator(close=df[\"TSLA\"][\"close\"], volume=df[\"TSLA\"][\"volume\"])\r\n",
        "# Add Technical Analysis indicators\r\n",
        "df['rsi'] = rsi.rsi()\r\n",
        "df['macd'] = macd.macd_diff()\r\n",
        "df['stoch'] = stoch.stoch_signal()\r\n",
        "df['onbalvol'] = onvol.on_balance_volume()\r\n",
        "\r\n",
        "pd.set_option('display.max_columns', None)\r\n",
        "\r\n",
        "sday = df.tail(7)\r\n",
        "is_bear = df.loc[(df[\"rsi\"]>65) & (df[\"rsi\"]<90)]\r\n",
        "is_bear = is_bear[(is_bear[\"macd\"] > -.5) & (is_bear[\"macd\"] < 0)]\r\n",
        "is_bear = is_bear[(is_bear[\"stoch\"] > 70) & (is_bear[\"stoch\"]< 100)]\r\n",
        "is_bull = df.loc[(df[\"rsi\"]>40) & (df[\"rsi\"]<55)]\r\n",
        "is_bull = is_bull.loc[(is_bull[\"macd\"]> -1) & (is_bull[\"macd\"]< 1)]\r\n",
        "is_bull = is_bull.loc[(is_bull['stoch']> 20) & (is_bull['stoch']< 40)]\r\n",
        "\r\n",
        "head = sday.head(1) \r\n",
        "tail = sday.tail(1)\r\n",
        "dayone = (head.index.values[0] - pd.Timestamp(\"1970-01-01\")) // pd.Timedelta(\"1s\")\r\n",
        "dayseven = (tail.index.values[0] - pd.Timestamp(\"1970-01-01\")) // pd.Timedelta(\"1s\")\r\n",
        "\r\n",
        "\r\n",
        "print(head)\r\n",
        "print(tail)\r\n",
        "print(dayone)\r\n",
        "print( \"YDIFF: \" + str((int(tail[\"onbalvol\"].values) - int(head[\"onbalvol\"].values))))\r\n",
        "print( \"XDIFF: \" + str((dayseven - dayone)))\r\n",
        "\r\n",
        "#On Balance Value slope which proves a bullish volume trend or a bearish volume trend ############### Near positive to negative crossover is a bearish trend and vice versa is a bullish\r\n",
        "slope = (int(tail[\"onbalvol\"].values) - int(head[\"onbalvol\"].values)) / (dayseven - dayone)\r\n",
        "\r\n",
        "\r\n",
        "print(slope)\r\n",
        "#print(\"########################BUY#############################\")\r\n",
        "#print(is_bull)\r\n",
        "#print(\"########################SELL#############################\")\r\n",
        "#print(is_bear)\r\n",
        "\r\n",
        "\r\n",
        "\r\n",
        "#print(sday)\r\n",
        "\r\n",
        "\r\n"
      ],
      "execution_count": null,
      "outputs": [
        {
          "output_type": "stream",
          "text": [
            "                            TSLA                                        \\\n",
            "                            open      high       low   close    volume   \n",
            "time                                                                     \n",
            "2021-01-21 00:00:00-05:00  855.0  855.7199  841.4201  844.97  18601595   \n",
            "\n",
            "                                 rsi      macd      stoch    onbalvol  \n",
            "                                                                       \n",
            "time                                                                   \n",
            "2021-01-21 00:00:00-05:00  68.862829 -0.256003  82.159879  1419400684  \n",
            "                               TSLA                                     \\\n",
            "                               open    high     low    close    volume   \n",
            "time                                                                     \n",
            "2021-01-29 00:00:00-05:00  830.0003  842.41  782.27  793.311  20189293   \n",
            "\n",
            "                                 rsi      macd      stoch    onbalvol  \n",
            "                                                                       \n",
            "time                                                                   \n",
            "2021-01-29 00:00:00-05:00  56.726355 -2.958267  38.493433  1431095899  \n",
            "1611205200\n",
            "YDIFF: 11695215\n",
            "XDIFF: 691200\n",
            "16.920160590277778\n"
          ],
          "name": "stdout"
        }
      ]
    }
  ]
}